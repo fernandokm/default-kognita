{
 "cells": [
  {
   "cell_type": "markdown",
   "metadata": {},
   "source": [
    "## Pipeline de Machine Learning"
   ]
  },
  {
   "cell_type": "code",
   "execution_count": 1,
   "metadata": {},
   "outputs": [],
   "source": [
    "import sys\n",
    "\n",
    "sys.path.append(\"../src\")"
   ]
  },
  {
   "cell_type": "code",
   "execution_count": 2,
   "metadata": {},
   "outputs": [
    {
     "name": "stderr",
     "output_type": "stream",
     "text": [
      "/tmp/ipykernel_148518/1179449253.py:4: DeprecationWarning: \n",
      "Pyarrow will become a required dependency of pandas in the next major release of pandas (pandas 3.0),\n",
      "(to allow more performant data types, such as the Arrow string type, and better interoperability with other libraries)\n",
      "but was not found to be installed on your system.\n",
      "If this would cause problems for you,\n",
      "please provide us feedback at https://github.com/pandas-dev/pandas/issues/54466\n",
      "        \n",
      "  import pandas as pd\n"
     ]
    }
   ],
   "source": [
    "import pickle\n",
    "\n",
    "import numpy as np\n",
    "import pandas as pd"
   ]
  },
  {
   "cell_type": "markdown",
   "metadata": {},
   "source": [
    "## Carregamento do Modelo\n",
    "\n",
    "O carregamento do modelo é feito utilizando o pickle. A partir dos dados carregados, defino a função `predict`."
   ]
  },
  {
   "cell_type": "code",
   "execution_count": 3,
   "metadata": {},
   "outputs": [],
   "source": [
    "class Predictor:\n",
    "    def __init__(self, model_file: str) -> None:\n",
    "        with open(model_file, \"rb\") as f:\n",
    "            model_data = pickle.load(f)\n",
    "        self.model = model_data[\"model\"]\n",
    "        self.threshold = model_data[\"threshold\"]\n",
    "        self.input_features = model_data[\"input_features\"]\n",
    "\n",
    "    def predict(self, input_data: dict) -> dict:\n",
    "        keys = set(input_data.keys())\n",
    "        missing_keys = set(self.input_features) - keys\n",
    "        if missing_keys:\n",
    "            msg = \"As seguintes chaves estão faltando na entrada: \"\n",
    "            msg += \", \".join(missing_keys)\n",
    "            raise KeyError(msg)\n",
    "\n",
    "        x = pd.DataFrame([input_data])\n",
    "        y_pred_proba = self.model.predict_proba(x[self.input_features])[0, 1]\n",
    "        return {\n",
    "            \"default\": int(y_pred_proba > self.threshold),\n",
    "        }"
   ]
  },
  {
   "cell_type": "code",
   "execution_count": 4,
   "metadata": {},
   "outputs": [],
   "source": [
    "pred = Predictor(\"../model.pickle\")"
   ]
  },
  {
   "cell_type": "markdown",
   "metadata": {},
   "source": [
    "## Exemplos\n",
    "\n",
    "Exemplos de utilização do preditor."
   ]
  },
  {
   "cell_type": "code",
   "execution_count": 5,
   "metadata": {},
   "outputs": [
    {
     "data": {
      "text/plain": [
       "{'default': 0}"
      ]
     },
     "execution_count": 5,
     "metadata": {},
     "output_type": "execute_result"
    }
   ],
   "source": [
    "# Retirado do dataset original, índice 43431, default=0\n",
    "\n",
    "pred.predict(\n",
    "    {\n",
    "        \"default_3months\": 0,\n",
    "        \"ioi_36months\": 31.0625,\n",
    "        \"ioi_3months\": 30.0,\n",
    "        \"valor_por_vencer\": 20258.45,\n",
    "        \"valor_vencido\": 0.0,\n",
    "        \"valor_quitado\": 134339.27,\n",
    "        \"quant_protestos\": 0,\n",
    "        \"valor_protestos\": 0.0,\n",
    "        \"quant_acao_judicial\": 0,\n",
    "        \"acao_judicial_valor\": 0.0,\n",
    "        \"dividas_vencidas_valor\": 0.0,\n",
    "        \"dividas_vencidas_qtd\": 0,\n",
    "        \"falencia_concordata_qtd\": 0,\n",
    "        \"tipo_sociedade\": \"sociedade empresaria limitada\",\n",
    "        \"opcao_tributaria\": \"simples nacional\",\n",
    "        \"atividade_principal\": \"com de equipamentos de informatica\",\n",
    "        \"forma_pagamento\": np.nan,\n",
    "        \"valor_total_pedido\": 3157.4304819200124,\n",
    "        \"month\": 7,\n",
    "        \"year\": 2018,\n",
    "    }\n",
    ")"
   ]
  },
  {
   "cell_type": "code",
   "execution_count": 6,
   "metadata": {},
   "outputs": [
    {
     "data": {
      "text/plain": [
       "{'default': 1}"
      ]
     },
     "execution_count": 6,
     "metadata": {},
     "output_type": "execute_result"
    }
   ],
   "source": [
    "# Retirado do dataset original, índice 102904, default=1\n",
    "\n",
    "pred.predict(\n",
    "    {\n",
    "        \"default_3months\": 0,\n",
    "        \"ioi_36months\": 11.581651455484923,\n",
    "        \"ioi_3months\": 18.0115805861392,\n",
    "        \"valor_por_vencer\": 0.0,\n",
    "        \"valor_vencido\": 0.0,\n",
    "        \"valor_quitado\": 0.0,\n",
    "        \"quant_protestos\": 0,\n",
    "        \"valor_protestos\": 0.0,\n",
    "        \"quant_acao_judicial\": 0,\n",
    "        \"acao_judicial_valor\": 0.0,\n",
    "        \"dividas_vencidas_valor\": 0.0,\n",
    "        \"dividas_vencidas_qtd\": 0,\n",
    "        \"falencia_concordata_qtd\": 0,\n",
    "        \"tipo_sociedade\": \"sociedade empresaria limitada\",\n",
    "        \"opcao_tributaria\": \"simples nacional\",\n",
    "        \"atividade_principal\": \"servicos de telefonia fixa\",\n",
    "        \"forma_pagamento\": \"30/60/90/120/150/180/210/240/270/300\",\n",
    "        \"valor_total_pedido\": 22955.870059379937,\n",
    "        \"month\": 4,\n",
    "        \"year\": 2018,\n",
    "    }\n",
    ")"
   ]
  }
 ],
 "metadata": {
  "kernelspec": {
   "display_name": "solution-jgGq5V3l",
   "language": "python",
   "name": "python3"
  },
  "language_info": {
   "codemirror_mode": {
    "name": "ipython",
    "version": 3
   },
   "file_extension": ".py",
   "mimetype": "text/x-python",
   "name": "python",
   "nbconvert_exporter": "python",
   "pygments_lexer": "ipython3",
   "version": "3.10.11"
  }
 },
 "nbformat": 4,
 "nbformat_minor": 2
}
