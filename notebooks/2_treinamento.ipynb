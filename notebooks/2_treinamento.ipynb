{
 "cells": [
  {
   "cell_type": "markdown",
   "metadata": {},
   "source": [
    "# Pipeline de Machine Learning"
   ]
  },
  {
   "cell_type": "code",
   "execution_count": 1,
   "metadata": {},
   "outputs": [],
   "source": [
    "import sys\n",
    "\n",
    "sys.path.append(\"../src\")"
   ]
  },
  {
   "cell_type": "code",
   "execution_count": 2,
   "metadata": {},
   "outputs": [
    {
     "name": "stderr",
     "output_type": "stream",
     "text": [
      "/tmp/ipykernel_176704/4021271184.py:6: DeprecationWarning: \n",
      "Pyarrow will become a required dependency of pandas in the next major release of pandas (pandas 3.0),\n",
      "(to allow more performant data types, such as the Arrow string type, and better interoperability with other libraries)\n",
      "but was not found to be installed on your system.\n",
      "If this would cause problems for you,\n",
      "please provide us feedback at https://github.com/pandas-dev/pandas/issues/54466\n",
      "        \n",
      "  import pandas as pd\n"
     ]
    }
   ],
   "source": [
    "import pickle\n",
    "\n",
    "import matplotlib.pyplot as plt\n",
    "import numpy as np\n",
    "import optuna\n",
    "import pandas as pd\n",
    "import processing\n",
    "import seaborn as sns\n",
    "from lightgbm import LGBMClassifier\n",
    "from optuna.samplers import TPESampler\n",
    "from sklearn.compose import make_column_selector, make_column_transformer\n",
    "from sklearn.impute import SimpleImputer\n",
    "from sklearn.kernel_approximation import Nystroem\n",
    "from sklearn.linear_model import LogisticRegression\n",
    "from sklearn.metrics import (\n",
    "    ConfusionMatrixDisplay,\n",
    "    PrecisionRecallDisplay,\n",
    "    confusion_matrix,\n",
    "    precision_recall_curve,\n",
    ")\n",
    "from sklearn.model_selection import cross_val_score, train_test_split\n",
    "from sklearn.pipeline import make_pipeline\n",
    "from sklearn.preprocessing import FunctionTransformer, OneHotEncoder, PowerTransformer\n",
    "from sklearn.svm import LinearSVC\n",
    "from tqdm.auto import tqdm\n",
    "\n",
    "sns.set(style=\"darkgrid\")\n",
    "tqdm.pandas()"
   ]
  },
  {
   "cell_type": "markdown",
   "metadata": {},
   "source": [
    "## Carregamento dos Dados\n",
    "\n",
    "Para oo modelo de machine learning, vamos utilizar a mesma divisão treino/teste utilizada na análise de dados:"
   ]
  },
  {
   "cell_type": "code",
   "execution_count": 3,
   "metadata": {},
   "outputs": [],
   "source": [
    "DATA_PATH = \"../_data/dataset_2021-5-26-10-14.csv\"\n",
    "\n",
    "\n",
    "def load_data():\n",
    "    data = pd.read_csv(DATA_PATH, sep=\"\\t\", encoding=\"utf8\", na_values=\"missing\")\n",
    "    train, test = train_test_split(\n",
    "        data, test_size=0.2, stratify=data[\"default\"], shuffle=True, random_state=0\n",
    "    )\n",
    "    return train, test\n",
    "\n",
    "\n",
    "train, test = load_data()\n",
    "X_train = train.drop(\"default\", axis=1)\n",
    "y_train = train[\"default\"]\n",
    "X_test = test.drop(\"default\", axis=1)\n",
    "y_test = test[\"default\"]"
   ]
  },
  {
   "cell_type": "markdown",
   "metadata": {},
   "source": [
    "## Pré-processamento\n",
    "\n",
    "Para facilitar a utilização do modelo de predição posteriormente, o preprocessamento será realizado utilizando transformers e pipelines. Para permitir o uso do pickle para carregar o modelo em outros arquivos, as funções dos tranformers foram implementadas no arquivo [processing.py](../src/processing.py). As próximas células apenas exibem o código utilizado.\n",
    "\n",
    "O pré-processamento realizado é justificado pelas descobertas feitas durante a análise de dados."
   ]
  },
  {
   "cell_type": "markdown",
   "metadata": {},
   "source": [
    "### Correção de pares de variáveis de quantidade/valor\n",
    "\n",
    "Primeiramente, vamos corrigir os erros nos seguintes pares de variáveis.\n",
    "\n",
    "- `quant_protestos` e `valor_protestos`\n",
    "- `dividas_vencidas_qtd` e `dividas_vencidas_valor`\n",
    "- `quant_acao_judicial` e `acao_judicial_valor`\n",
    "\n",
    "Para todos os pares, existem casos em que a quantidade é zero, mas o valor não é zero. Isso indica que a quantidade está errada, de forma que será substituída por NaN.\n",
    "\n",
    "```py\n",
    "def fix_amount(data: pd.DataFrame) -> pd.DataFrame:\n",
    "    pairs = [\n",
    "        (\"quant_protestos\", \"valor_protestos\"),\n",
    "        (\"dividas_vencidas_qtd\", \"dividas_vencidas_valor\"),\n",
    "        (\"quant_acao_judicial\", \"acao_judicial_valor\"),\n",
    "    ]\n",
    "\n",
    "    data = data.copy()\n",
    "    for amount_col, value_col in pairs:\n",
    "        if amount_col in data.columns and value_col in data.columns:\n",
    "            invalid = (data[amount_col] == 0) & (data[value_col] != 0)\n",
    "            data.loc[invalid, amount_col] = np.nan\n",
    "    return data\n",
    "```"
   ]
  },
  {
   "cell_type": "markdown",
   "metadata": {},
   "source": [
    "### Correção da distribuição\n",
    "\n",
    "Dada a assimetria elevada na distribuição dos dados, vou aplicar um power transform nas features numéricas ara aproximar a sua distribuição de uma distribuição normal. Isso será feito a partir do `PowerTransformer`.\n",
    "\n",
    "Obs: essa transformação não será aplicada para os modelos baseados em árvores, visto que eles não dependem da distribuição dos dados."
   ]
  },
  {
   "cell_type": "markdown",
   "metadata": {},
   "source": [
    "### Forma de pagamento\n",
    "\n",
    "A conversão da forma de pagamento utiliza a mesma função descrita no notebook de análise de dados."
   ]
  },
  {
   "cell_type": "markdown",
   "metadata": {},
   "source": [
    "### Adição da feature qtd_indicadores_zero\n",
    "\n",
    "A contagem da quantidade de indicadores zero é feita com o seguinte código:\n",
    "\n",
    "```py\n",
    "def count_zeros(data: pd.DataFrame, zero_cols: list[str]) -> pd.DataFrame:\n",
    "    # A variável é repetida aqui para garantir que essa o pickle funcione corretamente\n",
    "    return pd.DataFrame({\"qtd_indicadores_zero\": data.loc[:, zero_cols].sum(axis=1)})\n",
    "```"
   ]
  },
  {
   "cell_type": "markdown",
   "metadata": {},
   "source": [
    "### Conversão para tipo categórico\n",
    "\n",
    "Para facilitar a interação com os modelos de predição, vou converter as colunas categórias para o tipo \"category\" do pandas.\n",
    "\n",
    "```py\n",
    "def to_category(data: pd.DataFrame) -> pd.DataFrame:\n",
    "    return data.astype(\"category\")\n",
    "```"
   ]
  },
  {
   "cell_type": "markdown",
   "metadata": {},
   "source": [
    "Para alguns classificadores, será necessário codificar as variáveis categóricas em forma numérica. Como não há uma ordenação natural entre as categorias, vou utilizar one-hot encoding, com o `OneHotEncoder`."
   ]
  },
  {
   "cell_type": "markdown",
   "metadata": {},
   "source": [
    "### Transformador completo\n",
    "\n",
    "Abaixo, aplicamos as transformações descritas acima. As colunas utilizadas para criar o `qtd_indicadores_zero` são extremamente desbalanceadas e são retiradas.\n",
    "\n",
    "São criados três tranformadores:\n",
    "- Um transformador que corrige as variáveis de quantidade. Esse transformador precisa ser aplicado antes do cálculo do número de indicadores zero.\n",
    "- Um transformador com as outras transformações comuns a todos os modelos (processamento da coluna de forma de pagamento, criação do indicador de zeros, conversão para categoria)\n",
    "- Um transformador específico para modelos que não tem suporte nativo a features categoricas e dependem da distribuição dos dados (inclui one-hot encoding, power transform e imputação)\n",
    "\n",
    "Os primeiros dois transformadores não tem estado, então podem ser reutilizados. Já o tranformador específico tem estado, e logo deve ser recriado para cada modelo diferente."
   ]
  },
  {
   "cell_type": "code",
   "execution_count": 4,
   "metadata": {},
   "outputs": [],
   "source": [
    "preprocessing_common1 = make_column_transformer(\n",
    "    (\n",
    "        FunctionTransformer(processing.fix_amount),\n",
    "        [\n",
    "            \"quant_protestos\",\n",
    "            \"valor_protestos\",\n",
    "            \"dividas_vencidas_qtd\",\n",
    "            \"dividas_vencidas_valor\",\n",
    "            \"quant_acao_judicial\",\n",
    "            \"acao_judicial_valor\",\n",
    "        ],\n",
    "    ),\n",
    "    remainder=\"passthrough\",\n",
    "    verbose_feature_names_out=False,\n",
    ")\n",
    "preprocessing_common2 = make_column_transformer(\n",
    "    (FunctionTransformer(processing.convert_payment_column), [\"forma_pagamento\"]),\n",
    "    (FunctionTransformer(processing.count_zeros), processing.zero_cols),\n",
    "    (\n",
    "        # Como as colunas abaixo já foram utilizadas para calcular\n",
    "        # qtd_indicadores_zero, por padrão, elas seria removidas do dataset.\n",
    "        # Esse item adicional garante que elas não serão removidas\n",
    "        \"passthrough\",\n",
    "        [\n",
    "            \"quant_protestos\",\n",
    "            \"valor_protestos\",\n",
    "            \"dividas_vencidas_qtd\",\n",
    "            \"dividas_vencidas_valor\",\n",
    "            \"quant_acao_judicial\",\n",
    "            \"acao_judicial_valor\",\n",
    "        ],\n",
    "    ),\n",
    "    (\n",
    "        FunctionTransformer(processing.to_category),\n",
    "        [\"tipo_sociedade\", \"opcao_tributaria\", \"atividade_principal\"],\n",
    "    ),\n",
    "    (FunctionTransformer(processing.drop_column), [\"participacao_falencia_valor\"]),\n",
    "    remainder=\"passthrough\",\n",
    "    verbose_feature_names_out=False,\n",
    ")\n",
    "\n",
    "preprocessing_common1.set_output(transform=\"pandas\")\n",
    "preprocessing_common2.set_output(transform=\"pandas\")\n",
    "\n",
    "\n",
    "def make_specific_preprocessing_transformer():\n",
    "    t1 = make_column_transformer(\n",
    "        (PowerTransformer(), make_column_selector(dtype_include=np.number)),\n",
    "        (\n",
    "            OneHotEncoder(\n",
    "                handle_unknown=\"infrequent_if_exist\",\n",
    "                min_frequency=0.01,\n",
    "            ),\n",
    "            make_column_selector(dtype_include=pd.Categorical),\n",
    "        ),\n",
    "    )\n",
    "    t2 = SimpleImputer(strategy=\"mean\")\n",
    "    transformer = make_pipeline(t1, t2)\n",
    "    transformer.set_output(transform=\"pandas\")\n",
    "    return transformer"
   ]
  },
  {
   "cell_type": "code",
   "execution_count": 5,
   "metadata": {},
   "outputs": [
    {
     "name": "stdout",
     "output_type": "stream",
     "text": [
      "(93818, 21)\n"
     ]
    },
    {
     "data": {
      "text/html": [
       "<div>\n",
       "<style scoped>\n",
       "    .dataframe tbody tr th:only-of-type {\n",
       "        vertical-align: middle;\n",
       "    }\n",
       "\n",
       "    .dataframe tbody tr th {\n",
       "        vertical-align: top;\n",
       "    }\n",
       "\n",
       "    .dataframe thead th {\n",
       "        text-align: right;\n",
       "    }\n",
       "</style>\n",
       "<table border=\"1\" class=\"dataframe\">\n",
       "  <thead>\n",
       "    <tr style=\"text-align: right;\">\n",
       "      <th></th>\n",
       "      <th>primeira_parcela</th>\n",
       "      <th>ultima_parcela</th>\n",
       "      <th>qtd_parcelas</th>\n",
       "      <th>is_boleto</th>\n",
       "      <th>qtd_indicadores_zero</th>\n",
       "      <th>quant_protestos</th>\n",
       "      <th>valor_protestos</th>\n",
       "      <th>dividas_vencidas_qtd</th>\n",
       "      <th>dividas_vencidas_valor</th>\n",
       "      <th>quant_acao_judicial</th>\n",
       "      <th>...</th>\n",
       "      <th>tipo_sociedade</th>\n",
       "      <th>opcao_tributaria</th>\n",
       "      <th>atividade_principal</th>\n",
       "      <th>ioi_36months</th>\n",
       "      <th>ioi_3months</th>\n",
       "      <th>valor_por_vencer</th>\n",
       "      <th>valor_quitado</th>\n",
       "      <th>valor_total_pedido</th>\n",
       "      <th>month</th>\n",
       "      <th>year</th>\n",
       "    </tr>\n",
       "  </thead>\n",
       "  <tbody>\n",
       "    <tr>\n",
       "      <th>85316</th>\n",
       "      <td>28.0</td>\n",
       "      <td>42.0</td>\n",
       "      <td>3.0</td>\n",
       "      <td>0.0</td>\n",
       "      <td>0.0</td>\n",
       "      <td>0.0</td>\n",
       "      <td>0.0</td>\n",
       "      <td>0.0</td>\n",
       "      <td>0.0</td>\n",
       "      <td>0.0</td>\n",
       "      <td>...</td>\n",
       "      <td>sociedade empresaria limitada</td>\n",
       "      <td>simples nacional</td>\n",
       "      <td>com de eletrodomesticos</td>\n",
       "      <td>133.000000</td>\n",
       "      <td>17.941883</td>\n",
       "      <td>0.00</td>\n",
       "      <td>90755.55</td>\n",
       "      <td>28342.406159</td>\n",
       "      <td>8</td>\n",
       "      <td>2019</td>\n",
       "    </tr>\n",
       "    <tr>\n",
       "      <th>94814</th>\n",
       "      <td>30.0</td>\n",
       "      <td>90.0</td>\n",
       "      <td>3.0</td>\n",
       "      <td>0.0</td>\n",
       "      <td>0.0</td>\n",
       "      <td>0.0</td>\n",
       "      <td>0.0</td>\n",
       "      <td>0.0</td>\n",
       "      <td>0.0</td>\n",
       "      <td>0.0</td>\n",
       "      <td>...</td>\n",
       "      <td>empresario (individual)</td>\n",
       "      <td>simples nacional</td>\n",
       "      <td>com de telefones e equip p/ comunicacoes</td>\n",
       "      <td>272.000000</td>\n",
       "      <td>18.245173</td>\n",
       "      <td>10310.86</td>\n",
       "      <td>0.00</td>\n",
       "      <td>3773.144153</td>\n",
       "      <td>6</td>\n",
       "      <td>2018</td>\n",
       "    </tr>\n",
       "    <tr>\n",
       "      <th>91803</th>\n",
       "      <td>30.0</td>\n",
       "      <td>90.0</td>\n",
       "      <td>3.0</td>\n",
       "      <td>0.0</td>\n",
       "      <td>0.0</td>\n",
       "      <td>0.0</td>\n",
       "      <td>0.0</td>\n",
       "      <td>0.0</td>\n",
       "      <td>0.0</td>\n",
       "      <td>0.0</td>\n",
       "      <td>...</td>\n",
       "      <td>empresario (individual)</td>\n",
       "      <td>simples nacional</td>\n",
       "      <td>com de confeccoes em geral</td>\n",
       "      <td>72.666667</td>\n",
       "      <td>63.000000</td>\n",
       "      <td>4688.11</td>\n",
       "      <td>37810.92</td>\n",
       "      <td>2392.068367</td>\n",
       "      <td>9</td>\n",
       "      <td>2017</td>\n",
       "    </tr>\n",
       "    <tr>\n",
       "      <th>64498</th>\n",
       "      <td>42.0</td>\n",
       "      <td>70.0</td>\n",
       "      <td>5.0</td>\n",
       "      <td>0.0</td>\n",
       "      <td>0.0</td>\n",
       "      <td>0.0</td>\n",
       "      <td>0.0</td>\n",
       "      <td>0.0</td>\n",
       "      <td>0.0</td>\n",
       "      <td>0.0</td>\n",
       "      <td>...</td>\n",
       "      <td>empresa individual respons limitada empresaria</td>\n",
       "      <td>simples nacional</td>\n",
       "      <td>papelaria</td>\n",
       "      <td>107.033333</td>\n",
       "      <td>10.201515</td>\n",
       "      <td>0.00</td>\n",
       "      <td>19604.76</td>\n",
       "      <td>2220.607501</td>\n",
       "      <td>4</td>\n",
       "      <td>2017</td>\n",
       "    </tr>\n",
       "    <tr>\n",
       "      <th>40607</th>\n",
       "      <td>NaN</td>\n",
       "      <td>NaN</td>\n",
       "      <td>NaN</td>\n",
       "      <td>NaN</td>\n",
       "      <td>0.0</td>\n",
       "      <td>0.0</td>\n",
       "      <td>0.0</td>\n",
       "      <td>0.0</td>\n",
       "      <td>0.0</td>\n",
       "      <td>0.0</td>\n",
       "      <td>...</td>\n",
       "      <td>empresario (individual)</td>\n",
       "      <td>simples nacional</td>\n",
       "      <td>com de equipamentos de informatica</td>\n",
       "      <td>14.411765</td>\n",
       "      <td>11.833333</td>\n",
       "      <td>2844.28</td>\n",
       "      <td>124477.15</td>\n",
       "      <td>1510.317835</td>\n",
       "      <td>10</td>\n",
       "      <td>2017</td>\n",
       "    </tr>\n",
       "  </tbody>\n",
       "</table>\n",
       "<p>5 rows × 21 columns</p>\n",
       "</div>"
      ],
      "text/plain": [
       "       primeira_parcela  ultima_parcela  qtd_parcelas  is_boleto  \\\n",
       "85316              28.0            42.0           3.0        0.0   \n",
       "94814              30.0            90.0           3.0        0.0   \n",
       "91803              30.0            90.0           3.0        0.0   \n",
       "64498              42.0            70.0           5.0        0.0   \n",
       "40607               NaN             NaN           NaN        NaN   \n",
       "\n",
       "       qtd_indicadores_zero  quant_protestos  valor_protestos  \\\n",
       "85316                   0.0              0.0              0.0   \n",
       "94814                   0.0              0.0              0.0   \n",
       "91803                   0.0              0.0              0.0   \n",
       "64498                   0.0              0.0              0.0   \n",
       "40607                   0.0              0.0              0.0   \n",
       "\n",
       "       dividas_vencidas_qtd  dividas_vencidas_valor  quant_acao_judicial  ...  \\\n",
       "85316                   0.0                     0.0                  0.0  ...   \n",
       "94814                   0.0                     0.0                  0.0  ...   \n",
       "91803                   0.0                     0.0                  0.0  ...   \n",
       "64498                   0.0                     0.0                  0.0  ...   \n",
       "40607                   0.0                     0.0                  0.0  ...   \n",
       "\n",
       "                                       tipo_sociedade  opcao_tributaria  \\\n",
       "85316                   sociedade empresaria limitada  simples nacional   \n",
       "94814                         empresario (individual)  simples nacional   \n",
       "91803                         empresario (individual)  simples nacional   \n",
       "64498  empresa individual respons limitada empresaria  simples nacional   \n",
       "40607                         empresario (individual)  simples nacional   \n",
       "\n",
       "                            atividade_principal ioi_36months  ioi_3months  \\\n",
       "85316                   com de eletrodomesticos   133.000000    17.941883   \n",
       "94814  com de telefones e equip p/ comunicacoes   272.000000    18.245173   \n",
       "91803                com de confeccoes em geral    72.666667    63.000000   \n",
       "64498                                 papelaria   107.033333    10.201515   \n",
       "40607        com de equipamentos de informatica    14.411765    11.833333   \n",
       "\n",
       "       valor_por_vencer  valor_quitado  valor_total_pedido  month  year  \n",
       "85316              0.00       90755.55        28342.406159      8  2019  \n",
       "94814          10310.86           0.00         3773.144153      6  2018  \n",
       "91803           4688.11       37810.92         2392.068367      9  2017  \n",
       "64498              0.00       19604.76         2220.607501      4  2017  \n",
       "40607           2844.28      124477.15         1510.317835     10  2017  \n",
       "\n",
       "[5 rows x 21 columns]"
      ]
     },
     "execution_count": 5,
     "metadata": {},
     "output_type": "execute_result"
    }
   ],
   "source": [
    "X_train_proc = preprocessing_common1.fit_transform(X_train)\n",
    "X_train_proc = preprocessing_common2.fit_transform(X_train_proc)\n",
    "\n",
    "print(X_train_proc.shape)\n",
    "X_train_proc.head()"
   ]
  },
  {
   "cell_type": "markdown",
   "metadata": {},
   "source": [
    "Após o preprocessamento, temos 15 variáveis."
   ]
  },
  {
   "cell_type": "markdown",
   "metadata": {},
   "source": [
    "## Comparação de alguns modelos\n",
    "\n",
    "Aqui, vou comparar dois modelos mais simples (regressão logística e SVM) com o LightGBM. O objetivo é validar a necessidade de um modelo mais complexo.\n",
    "\n",
    "Para a comparação, a métrica utilizada será a precisão média (**AP** ou Average Precision). Como o meu objetivo é escolher um threshold ótimo para o modelo após a obtenção de um modelo final, quero uma métrica que não dependa de um threshold específico. Escolhi a precisão média, AP, (que é também a área sob a curva de precisão vs. recall) ao invés de ROC AUC, pois ela produz valores mais úteis para o nosso contexto. Um dos benefícios do AUC é a sua independência da distribuição de dados. No nosso caso, isso é um ponto negativo.\n",
    "\n",
    "Por exemplo, consideremos um modelo com FPR=0.1 e TPR=0.9. Se a proporção de default na população diminuir, haverá mais instâncias negativas e, logo, mais falso positivos. Cada falso positivo corresponde a dinheiro perdido (um pedido rejeitado pela X-Health). A precisão é capaz de capturar essa variação, mas o TPR/FPR (utilizados pelo AUC) permanecem constantes."
   ]
  },
  {
   "cell_type": "code",
   "execution_count": 6,
   "metadata": {},
   "outputs": [],
   "source": [
    "model_linear = make_pipeline(\n",
    "    preprocessing_common1,\n",
    "    preprocessing_common2,\n",
    "    make_specific_preprocessing_transformer(),\n",
    "    LogisticRegression(max_iter=1_000, class_weight=\"balanced\", random_state=0),\n",
    ")\n",
    "\n",
    "# Para o SVM, utilizo o Nystroem+LinearSVC, que é melhor adaptado\n",
    "# para grandes quantidades de dados\n",
    "model_svm = make_pipeline(\n",
    "    preprocessing_common1,\n",
    "    preprocessing_common2,\n",
    "    make_specific_preprocessing_transformer(),\n",
    "    Nystroem(\"rbf\", random_state=0),\n",
    "    LinearSVC(class_weight=\"balanced\", dual=False, random_state=0),\n",
    ")\n",
    "\n",
    "model_lgbm = make_pipeline(\n",
    "    preprocessing_common1,\n",
    "    preprocessing_common2,\n",
    "    LGBMClassifier(verbose=-1, is_unbalance=True, random_state=0),\n",
    ")"
   ]
  },
  {
   "cell_type": "code",
   "execution_count": 7,
   "metadata": {},
   "outputs": [
    {
     "name": "stdout",
     "output_type": "stream",
     "text": [
      "[Regressão Logística] AP = 0.422\n",
      "[SVM] AP = 0.432\n",
      "[LGBM] AP = 0.74\n"
     ]
    }
   ],
   "source": [
    "scores = cross_val_score(\n",
    "    model_linear, X_train, y_train, scoring=\"average_precision\", cv=5, n_jobs=-1\n",
    ")\n",
    "print(f\"[Regressão Logística] AP = {scores.mean():.3}\")\n",
    "\n",
    "scores = cross_val_score(\n",
    "    model_svm, X_train, y_train, scoring=\"average_precision\", cv=5, n_jobs=-1\n",
    ")\n",
    "print(f\"[SVM] AP = {scores.mean():.3}\")\n",
    "\n",
    "scores = cross_val_score(\n",
    "    model_lgbm, X_train, y_train, scoring=\"average_precision\", cv=5\n",
    ")\n",
    "print(f\"[LGBM] AP = {scores.mean():.3}\")"
   ]
  },
  {
   "cell_type": "markdown",
   "metadata": {},
   "source": [
    "## Seleção de Features\n",
    "\n",
    "Para a seleção de features, vamos utilizar a importância de features calculada pelo LightGBM (que consiste no número de splits do qual cada feature participa). A importância das features calculada nos dados de treino pode ser vista abaixo."
   ]
  },
  {
   "cell_type": "code",
   "execution_count": 8,
   "metadata": {},
   "outputs": [
    {
     "data": {
      "image/png": "[encoded data removed]",
      "text/plain": [
       "<Figure size 640x480 with 1 Axes>"
      ]
     },
     "metadata": {},
     "output_type": "display_data"
    }
   ],
   "source": [
    "model_lgbm.fit(X_train, y_train)\n",
    "clf = model_lgbm.named_steps[\"lgbmclassifier\"]\n",
    "results = pd.DataFrame(\n",
    "    {\n",
    "        \"feature\": clf.feature_name_,\n",
    "        \"importance\": clf.feature_importances_,\n",
    "    }\n",
    ")\n",
    "results = results.sort_values(\"importance\", ascending=False)\n",
    "ax = sns.barplot(\n",
    "    x=\"importance\",\n",
    "    y=\"feature\",\n",
    "    hue=\"importance\",\n",
    "    data=results,\n",
    "    palette=\"Reds\",\n",
    ")\n",
    "plt.xlabel(\"Importância\")\n",
    "plt.ylabel(\"Feature\")\n",
    "ax.get_legend().remove()"
   ]
  },
  {
   "cell_type": "markdown",
   "metadata": {},
   "source": [
    "O gráfico deixa claro que `atividade_principal` é a feature mais importante, com uma grande margem. Além disso, várias das features tem importância baixa.\n",
    "\n",
    "A estratégia utilizada para selecionar as features será Recursive Feature Elimination, ou seja, vamos começar com todas as features e iterativamente:\n",
    "1. Avaliar o modelo utilizando validação cruzada\n",
    "2. Calcular a importância das features\n",
    "3. Remover a feature menos importante\n"
   ]
  },
  {
   "cell_type": "code",
   "execution_count": 9,
   "metadata": {},
   "outputs": [
    {
     "name": "stdout",
     "output_type": "stream",
     "text": [
      "num_features=21  "
     ]
    },
    {
     "name": "stdout",
     "output_type": "stream",
     "text": [
      "AP=0.7403  ->  feature removida: acao_judicial_valor\n",
      "num_features=20  AP=0.7412  ->  feature removida: dividas_vencidas_valor\n",
      "num_features=19  AP=0.7400  ->  feature removida: is_boleto\n",
      "num_features=18  AP=0.7388  ->  feature removida: quant_acao_judicial\n",
      "num_features=17  AP=0.7402  ->  feature removida: valor_protestos\n",
      "num_features=16  AP=0.7388  ->  feature removida: dividas_vencidas_qtd\n",
      "num_features=15  AP=0.7385  ->  feature removida: opcao_tributaria\n",
      "num_features=14  AP=0.7322  ->  feature removida: primeira_parcela\n",
      "num_features=13  AP=0.7323  ->  feature removida: quant_protestos\n",
      "num_features=12  AP=0.7201  ->  feature removida: qtd_parcelas\n",
      "num_features=11  AP=0.7193  ->  feature removida: tipo_sociedade\n",
      "num_features=10  AP=0.7111  ->  feature removida: qtd_indicadores_zero\n",
      "num_features= 9  AP=0.6745  ->  feature removida: year\n",
      "num_features= 8  AP=0.6393  ->  feature removida: valor_total_pedido\n",
      "num_features= 7  AP=0.6305  ->  feature removida: ultima_parcela\n",
      "num_features= 6  AP=0.6088  ->  feature removida: month\n",
      "num_features= 5  AP=0.5193  ->  feature removida: ioi_36months\n",
      "num_features= 4  AP=0.5076  ->  feature removida: valor_por_vencer\n",
      "num_features= 3  AP=0.4714  ->  feature removida: atividade_principal\n",
      "num_features= 2  AP=0.3877  ->  feature removida: valor_quitado\n",
      "num_features= 1  AP=0.3428  ->  feature removida: ioi_3months\n"
     ]
    }
   ],
   "source": [
    "# O código a seguir cumpre a mesma tarefa que a classe RFECV do sklearn,\n",
    "# mas o RFECV não suporta dados categóricos.\n",
    "\n",
    "features = results[\"feature\"].tolist()\n",
    "scores_per_iter = {}\n",
    "features_per_iter = {}\n",
    "for num_features in range(len(results), 0, -1):\n",
    "    print(f\"{num_features=:2d}  \", end=\"\", flush=True)\n",
    "\n",
    "    # Avalia o modelo com um subset das features\n",
    "    scores = cross_val_score(\n",
    "        clf, X_train_proc[features], y_train, scoring=\"average_precision\", cv=5\n",
    "    )\n",
    "    scores_per_iter[num_features] = scores.mean()\n",
    "    features_per_iter[num_features] = features.copy()\n",
    "\n",
    "    # Re-treina o modelo em todos os dados de treino e elimina a pior feature\n",
    "    clf.fit(X_train_proc[features], y_train)\n",
    "    worst_feature = clf.feature_name_[np.argmin(clf.feature_importances_)]\n",
    "    features.remove(worst_feature)\n",
    "\n",
    "    print(f\"AP={scores.mean():.4f}  ->  feature removida: {worst_feature}\")"
   ]
  },
  {
   "cell_type": "markdown",
   "metadata": {},
   "source": [
    "A partir dos resultados, vemos que até 15 features, alguma melhoria do modelo pode ser observada. A partir de 16 features, o score do modelo oscila em torno do mesmo valor."
   ]
  },
  {
   "cell_type": "code",
   "execution_count": 10,
   "metadata": {},
   "outputs": [
    {
     "name": "stdout",
     "output_type": "stream",
     "text": [
      "Features selectionadas:\n",
      " - atividade_principal\n",
      " - ioi_3months\n",
      " - valor_quitado\n",
      " - valor_por_vencer\n",
      " - month\n",
      " - valor_total_pedido\n",
      " - ioi_36months\n",
      " - year\n",
      " - qtd_indicadores_zero\n",
      " - ultima_parcela\n",
      " - tipo_sociedade\n",
      " - primeira_parcela\n",
      " - qtd_parcelas\n",
      " - quant_protestos\n",
      " - opcao_tributaria\n"
     ]
    }
   ],
   "source": [
    "best_features = features_per_iter[15]\n",
    "print(\"Features selectionadas:\", *best_features, sep=\"\\n - \")"
   ]
  },
  {
   "cell_type": "markdown",
   "metadata": {},
   "source": [
    "## Otimização de Hiperparâmetros"
   ]
  },
  {
   "cell_type": "code",
   "execution_count": 11,
   "metadata": {},
   "outputs": [
    {
     "name": "stderr",
     "output_type": "stream",
     "text": [
      "/home/fernando/.local/share/virtualenvs/solution-jgGq5V3l/lib/python3.10/site-packages/optuna/samplers/_tpe/sampler.py:319: ExperimentalWarning: ``multivariate`` option is an experimental feature. The interface can change in the future.\n",
      "  warnings.warn(\n",
      "[I 2024-02-09 01:24:24,752] Using an existing study with name 'lightgbm' instead of creating a new one.\n"
     ]
    }
   ],
   "source": [
    "def objective(trial: optuna.Trial) -> float:\n",
    "    \"\"\"Avalia um modelo LGBM\"\"\"\n",
    "    params = {\n",
    "        \"verbose\": -1,\n",
    "        \"random_state\": 0,\n",
    "        \"is_unbalance\": trial.suggest_categorical(\"is_unbalance\", [False, True]),\n",
    "        \"learning_rate\": trial.suggest_float(\"learning_rate\", 1e-4, 1, log=True),\n",
    "        \"n_estimators\": trial.suggest_int(\"n_estimators\", 50, 300),\n",
    "        \"boosting\": trial.suggest_categorical(\"boosting\", [\"gbdt\", \"dart\"]),\n",
    "        \"lambda_l1\": trial.suggest_float(\"lambda_l1\", 1e-8, 10.0, log=True),\n",
    "        \"lambda_l2\": trial.suggest_float(\"lambda_l2\", 1e-8, 10.0, log=True),\n",
    "        \"num_leaves\": trial.suggest_int(\"num_leaves\", 2, 2**6),\n",
    "        \"min_data_in_leaf\": trial.suggest_int(\"min_data_in_leaf\", 5, 50),\n",
    "    }\n",
    "    clf = LGBMClassifier(**params)\n",
    "    scores = cross_val_score(\n",
    "        clf, X_train_proc[best_features], y_train, scoring=\"average_precision\", cv=3\n",
    "    )\n",
    "    return np.mean(scores)\n",
    "\n",
    "\n",
    "sampler = TPESampler(multivariate=True, seed=0)\n",
    "study = optuna.create_study(\n",
    "    study_name=\"lightgbm\",\n",
    "    storage=\"sqlite:///optuna_lightgbm.db\",\n",
    "    load_if_exists=True,\n",
    "    direction=\"maximize\",\n",
    "    sampler=sampler,\n",
    ")\n",
    "# study.optimize(objective, n_trials=100)"
   ]
  },
  {
   "cell_type": "code",
   "execution_count": 12,
   "metadata": {},
   "outputs": [
    {
     "data": {
      "application/vnd.plotly.v1+json": {
       "config": {
        "plotlyServerURL": "https://plot.ly"
       },
       "data": [
        {
         "cliponaxis": false,
         "hovertemplate": [
          "lambda_l1 (FloatDistribution): 0.0004356423630178704<extra></extra>",
          "lambda_l2 (FloatDistribution): 0.0016090343231065026<extra></extra>",
          "boosting (CategoricalDistribution): 0.003725526796404173<extra></extra>",
          "is_unbalance (CategoricalDistribution): 0.005135048528447602<extra></extra>",
          "n_estimators (IntDistribution): 0.03908416749120978<extra></extra>",
          "min_data_in_leaf (IntDistribution): 0.060356582206299546<extra></extra>",
          "learning_rate (FloatDistribution): 0.16672058204032653<extra></extra>",
          "num_leaves (IntDistribution): 0.722933416251188<extra></extra>"
         ],
         "name": "Objective Value",
         "orientation": "h",
         "text": [
          "<0.01",
          "<0.01",
          "<0.01",
          "<0.01",
          "0.04",
          "0.06",
          "0.17",
          "0.72"
         ],
         "textposition": "outside",
         "type": "bar",
         "x": [
          0.0004356423630178704,
          0.0016090343231065026,
          0.003725526796404173,
          0.005135048528447602,
          0.03908416749120978,
          0.060356582206299546,
          0.16672058204032653,
          0.722933416251188
         ],
         "y": [
          "lambda_l1",
          "lambda_l2",
          "boosting",
          "is_unbalance",
          "n_estimators",
          "min_data_in_leaf",
          "learning_rate",
          "num_leaves"
         ]
        }
       ],
       "layout": {
        "template": {
         "data": {
          "bar": [
           {
            "error_x": {
             "color": "#2a3f5f"
            },
            "error_y": {
             "color": "#2a3f5f"
            },
            "marker": {
             "line": {
              "color": "#E5ECF6",
              "width": 0.5
             },
             "pattern": {
              "fillmode": "overlay",
              "size": 10,
              "solidity": 0.2
             }
            },
            "type": "bar"
           }
          ],
          "barpolar": [
           {
            "marker": {
             "line": {
              "color": "#E5ECF6",
              "width": 0.5
             },
             "pattern": {
              "fillmode": "overlay",
              "size": 10,
              "solidity": 0.2
             }
            },
            "type": "barpolar"
           }
          ],
          "carpet": [
           {
            "aaxis": {
             "endlinecolor": "#2a3f5f",
             "gridcolor": "white",
             "linecolor": "white",
             "minorgridcolor": "white",
             "startlinecolor": "#2a3f5f"
            },
            "baxis": {
             "endlinecolor": "#2a3f5f",
             "gridcolor": "white",
             "linecolor": "white",
             "minorgridcolor": "white",
             "startlinecolor": "#2a3f5f"
            },
            "type": "carpet"
           }
          ],
          "choropleth": [
           {
            "colorbar": {
             "outlinewidth": 0,
             "ticks": ""
            },
            "type": "choropleth"
           }
          ],
          "contour": [
           {
            "colorbar": {
             "outlinewidth": 0,
             "ticks": ""
            },
            "colorscale": [
             [
              0,
              "#0d0887"
             ],
             [
              0.1111111111111111,
              "#46039f"
             ],
             [
              0.2222222222222222,
              "#7201a8"
             ],
             [
              0.3333333333333333,
              "#9c179e"
             ],
             [
              0.4444444444444444,
              "#bd3786"
             ],
             [
              0.5555555555555556,
              "#d8576b"
             ],
             [
              0.6666666666666666,
              "#ed7953"
             ],
             [
              0.7777777777777778,
              "#fb9f3a"
             ],
             [
              0.8888888888888888,
              "#fdca26"
             ],
             [
              1,
              "#f0f921"
             ]
            ],
            "type": "contour"
           }
          ],
          "contourcarpet": [
           {
            "colorbar": {
             "outlinewidth": 0,
             "ticks": ""
            },
            "type": "contourcarpet"
           }
          ],
          "heatmap": [
           {
            "colorbar": {
             "outlinewidth": 0,
             "ticks": ""
            },
            "colorscale": [
             [
              0,
              "#0d0887"
             ],
             [
              0.1111111111111111,
              "#46039f"
             ],
             [
              0.2222222222222222,
              "#7201a8"
             ],
             [
              0.3333333333333333,
              "#9c179e"
             ],
             [
              0.4444444444444444,
              "#bd3786"
             ],
             [
              0.5555555555555556,
              "#d8576b"
             ],
             [
              0.6666666666666666,
              "#ed7953"
             ],
             [
              0.7777777777777778,
              "#fb9f3a"
             ],
             [
              0.8888888888888888,
              "#fdca26"
             ],
             [
              1,
              "#f0f921"
             ]
            ],
            "type": "heatmap"
           }
          ],
          "heatmapgl": [
           {
            "colorbar": {
             "outlinewidth": 0,
             "ticks": ""
            },
            "colorscale": [
             [
              0,
              "#0d0887"
             ],
             [
              0.1111111111111111,
              "#46039f"
             ],
             [
              0.2222222222222222,
              "#7201a8"
             ],
             [
              0.3333333333333333,
              "#9c179e"
             ],
             [
              0.4444444444444444,
              "#bd3786"
             ],
             [
              0.5555555555555556,
              "#d8576b"
             ],
             [
              0.6666666666666666,
              "#ed7953"
             ],
             [
              0.7777777777777778,
              "#fb9f3a"
             ],
             [
              0.8888888888888888,
              "#fdca26"
             ],
             [
              1,
              "#f0f921"
             ]
            ],
            "type": "heatmapgl"
           }
          ],
          "histogram": [
           {
            "marker": {
             "pattern": {
              "fillmode": "overlay",
              "size": 10,
              "solidity": 0.2
             }
            },
            "type": "histogram"
           }
          ],
          "histogram2d": [
           {
            "colorbar": {
             "outlinewidth": 0,
             "ticks": ""
            },
            "colorscale": [
             [
              0,
              "#0d0887"
             ],
             [
              0.1111111111111111,
              "#46039f"
             ],
             [
              0.2222222222222222,
              "#7201a8"
             ],
             [
              0.3333333333333333,
              "#9c179e"
             ],
             [
              0.4444444444444444,
              "#bd3786"
             ],
             [
              0.5555555555555556,
              "#d8576b"
             ],
             [
              0.6666666666666666,
              "#ed7953"
             ],
             [
              0.7777777777777778,
              "#fb9f3a"
             ],
             [
              0.8888888888888888,
              "#fdca26"
             ],
             [
              1,
              "#f0f921"
             ]
            ],
            "type": "histogram2d"
           }
          ],
          "histogram2dcontour": [
           {
            "colorbar": {
             "outlinewidth": 0,
             "ticks": ""
            },
            "colorscale": [
             [
              0,
              "#0d0887"
             ],
             [
              0.1111111111111111,
              "#46039f"
             ],
             [
              0.2222222222222222,
              "#7201a8"
             ],
             [
              0.3333333333333333,
              "#9c179e"
             ],
             [
              0.4444444444444444,
              "#bd3786"
             ],
             [
              0.5555555555555556,
              "#d8576b"
             ],
             [
              0.6666666666666666,
              "#ed7953"
             ],
             [
              0.7777777777777778,
              "#fb9f3a"
             ],
             [
              0.8888888888888888,
              "#fdca26"
             ],
             [
              1,
              "#f0f921"
             ]
            ],
            "type": "histogram2dcontour"
           }
          ],
          "mesh3d": [
           {
            "colorbar": {
             "outlinewidth": 0,
             "ticks": ""
            },
            "type": "mesh3d"
           }
          ],
          "parcoords": [
           {
            "line": {
             "colorbar": {
              "outlinewidth": 0,
              "ticks": ""
             }
            },
            "type": "parcoords"
           }
          ],
          "pie": [
           {
            "automargin": true,
            "type": "pie"
           }
          ],
          "scatter": [
           {
            "fillpattern": {
             "fillmode": "overlay",
             "size": 10,
             "solidity": 0.2
            },
            "type": "scatter"
           }
          ],
          "scatter3d": [
           {
            "line": {
             "colorbar": {
              "outlinewidth": 0,
              "ticks": ""
             }
            },
            "marker": {
             "colorbar": {
              "outlinewidth": 0,
              "ticks": ""
             }
            },
            "type": "scatter3d"
           }
          ],
          "scattercarpet": [
           {
            "marker": {
             "colorbar": {
              "outlinewidth": 0,
              "ticks": ""
             }
            },
            "type": "scattercarpet"
           }
          ],
          "scattergeo": [
           {
            "marker": {
             "colorbar": {
              "outlinewidth": 0,
              "ticks": ""
             }
            },
            "type": "scattergeo"
           }
          ],
          "scattergl": [
           {
            "marker": {
             "colorbar": {
              "outlinewidth": 0,
              "ticks": ""
             }
            },
            "type": "scattergl"
           }
          ],
          "scattermapbox": [
           {
            "marker": {
             "colorbar": {
              "outlinewidth": 0,
              "ticks": ""
             }
            },
            "type": "scattermapbox"
           }
          ],
          "scatterpolar": [
           {
            "marker": {
             "colorbar": {
              "outlinewidth": 0,
              "ticks": ""
             }
            },
            "type": "scatterpolar"
           }
          ],
          "scatterpolargl": [
           {
            "marker": {
             "colorbar": {
              "outlinewidth": 0,
              "ticks": ""
             }
            },
            "type": "scatterpolargl"
           }
          ],
          "scatterternary": [
           {
            "marker": {
             "colorbar": {
              "outlinewidth": 0,
              "ticks": ""
             }
            },
            "type": "scatterternary"
           }
          ],
          "surface": [
           {
            "colorbar": {
             "outlinewidth": 0,
             "ticks": ""
            },
            "colorscale": [
             [
              0,
              "#0d0887"
             ],
             [
              0.1111111111111111,
              "#46039f"
             ],
             [
              0.2222222222222222,
              "#7201a8"
             ],
             [
              0.3333333333333333,
              "#9c179e"
             ],
             [
              0.4444444444444444,
              "#bd3786"
             ],
             [
              0.5555555555555556,
              "#d8576b"
             ],
             [
              0.6666666666666666,
              "#ed7953"
             ],
             [
              0.7777777777777778,
              "#fb9f3a"
             ],
             [
              0.8888888888888888,
              "#fdca26"
             ],
             [
              1,
              "#f0f921"
             ]
            ],
            "type": "surface"
           }
          ],
          "table": [
           {
            "cells": {
             "fill": {
              "color": "#EBF0F8"
             },
             "line": {
              "color": "white"
             }
            },
            "header": {
             "fill": {
              "color": "#C8D4E3"
             },
             "line": {
              "color": "white"
             }
            },
            "type": "table"
           }
          ]
         },
         "layout": {
          "annotationdefaults": {
           "arrowcolor": "#2a3f5f",
           "arrowhead": 0,
           "arrowwidth": 1
          },
          "autotypenumbers": "strict",
          "coloraxis": {
           "colorbar": {
            "outlinewidth": 0,
            "ticks": ""
           }
          },
          "colorscale": {
           "diverging": [
            [
             0,
             "#8e0152"
            ],
            [
             0.1,
             "#c51b7d"
            ],
            [
             0.2,
             "#de77ae"
            ],
            [
             0.3,
             "#f1b6da"
            ],
            [
             0.4,
             "#fde0ef"
            ],
            [
             0.5,
             "#f7f7f7"
            ],
            [
             0.6,
             "#e6f5d0"
            ],
            [
             0.7,
             "#b8e186"
            ],
            [
             0.8,
             "#7fbc41"
            ],
            [
             0.9,
             "#4d9221"
            ],
            [
             1,
             "#276419"
            ]
           ],
           "sequential": [
            [
             0,
             "#0d0887"
            ],
            [
             0.1111111111111111,
             "#46039f"
            ],
            [
             0.2222222222222222,
             "#7201a8"
            ],
            [
             0.3333333333333333,
             "#9c179e"
            ],
            [
             0.4444444444444444,
             "#bd3786"
            ],
            [
             0.5555555555555556,
             "#d8576b"
            ],
            [
             0.6666666666666666,
             "#ed7953"
            ],
            [
             0.7777777777777778,
             "#fb9f3a"
            ],
            [
             0.8888888888888888,
             "#fdca26"
            ],
            [
             1,
             "#f0f921"
            ]
           ],
           "sequentialminus": [
            [
             0,
             "#0d0887"
            ],
            [
             0.1111111111111111,
             "#46039f"
            ],
            [
             0.2222222222222222,
             "#7201a8"
            ],
            [
             0.3333333333333333,
             "#9c179e"
            ],
            [
             0.4444444444444444,
             "#bd3786"
            ],
            [
             0.5555555555555556,
             "#d8576b"
            ],
            [
             0.6666666666666666,
             "#ed7953"
            ],
            [
             0.7777777777777778,
             "#fb9f3a"
            ],
            [
             0.8888888888888888,
             "#fdca26"
            ],
            [
             1,
             "#f0f921"
            ]
           ]
          },
          "colorway": [
           "#636efa",
           "#EF553B",
           "#00cc96",
           "#ab63fa",
           "#FFA15A",
           "#19d3f3",
           "#FF6692",
           "#B6E880",
           "#FF97FF",
           "#FECB52"
          ],
          "font": {
           "color": "#2a3f5f"
          },
          "geo": {
           "bgcolor": "white",
           "lakecolor": "white",
           "landcolor": "#E5ECF6",
           "showlakes": true,
           "showland": true,
           "subunitcolor": "white"
          },
          "hoverlabel": {
           "align": "left"
          },
          "hovermode": "closest",
          "mapbox": {
           "style": "light"
          },
          "paper_bgcolor": "white",
          "plot_bgcolor": "#E5ECF6",
          "polar": {
           "angularaxis": {
            "gridcolor": "white",
            "linecolor": "white",
            "ticks": ""
           },
           "bgcolor": "#E5ECF6",
           "radialaxis": {
            "gridcolor": "white",
            "linecolor": "white",
            "ticks": ""
           }
          },
          "scene": {
           "xaxis": {
            "backgroundcolor": "#E5ECF6",
            "gridcolor": "white",
            "gridwidth": 2,
            "linecolor": "white",
            "showbackground": true,
            "ticks": "",
            "zerolinecolor": "white"
           },
           "yaxis": {
            "backgroundcolor": "#E5ECF6",
            "gridcolor": "white",
            "gridwidth": 2,
            "linecolor": "white",
            "showbackground": true,
            "ticks": "",
            "zerolinecolor": "white"
           },
           "zaxis": {
            "backgroundcolor": "#E5ECF6",
            "gridcolor": "white",
            "gridwidth": 2,
            "linecolor": "white",
            "showbackground": true,
            "ticks": "",
            "zerolinecolor": "white"
           }
          },
          "shapedefaults": {
           "line": {
            "color": "#2a3f5f"
           }
          },
          "ternary": {
           "aaxis": {
            "gridcolor": "white",
            "linecolor": "white",
            "ticks": ""
           },
           "baxis": {
            "gridcolor": "white",
            "linecolor": "white",
            "ticks": ""
           },
           "bgcolor": "#E5ECF6",
           "caxis": {
            "gridcolor": "white",
            "linecolor": "white",
            "ticks": ""
           }
          },
          "title": {
           "x": 0.05
          },
          "xaxis": {
           "automargin": true,
           "gridcolor": "white",
           "linecolor": "white",
           "ticks": "",
           "title": {
            "standoff": 15
           },
           "zerolinecolor": "white",
           "zerolinewidth": 2
          },
          "yaxis": {
           "automargin": true,
           "gridcolor": "white",
           "linecolor": "white",
           "ticks": "",
           "title": {
            "standoff": 15
           },
           "zerolinecolor": "white",
           "zerolinewidth": 2
          }
         }
        },
        "title": {
         "text": "Hyperparameter Importances"
        },
        "xaxis": {
         "title": {
          "text": "Hyperparameter Importance"
         }
        },
        "yaxis": {
         "title": {
          "text": "Hyperparameter"
         }
        }
       }
      }
     },
     "metadata": {},
     "output_type": "display_data"
    }
   ],
   "source": [
    "optuna.visualization.plot_param_importances(study)"
   ]
  },
  {
   "cell_type": "code",
   "execution_count": 13,
   "metadata": {},
   "outputs": [
    {
     "data": {
      "text/plain": [
       "(0.8412244397109675,\n",
       " {'is_unbalance': False,\n",
       "  'learning_rate': 0.3747067251453826,\n",
       "  'n_estimators': 289,\n",
       "  'boosting': 'gbdt',\n",
       "  'lambda_l1': 6.133770089625727e-08,\n",
       "  'lambda_l2': 2.1815578194588485,\n",
       "  'num_leaves': 54,\n",
       "  'min_data_in_leaf': 10})"
      ]
     },
     "execution_count": 13,
     "metadata": {},
     "output_type": "execute_result"
    }
   ],
   "source": [
    "study.best_value, study.best_params"
   ]
  },
  {
   "cell_type": "markdown",
   "metadata": {},
   "source": [
    "## Escolha de Threshold"
   ]
  },
  {
   "cell_type": "code",
   "execution_count": 14,
   "metadata": {},
   "outputs": [
    {
     "data": {
      "text/html": [
       "<style>#sk-container-id-1 {\n",
       "  /* Definition of color scheme common for light and dark mode */\n",
       "  --sklearn-color-text: black;\n",
       "  --sklearn-color-line: gray;\n",
       "  /* Definition of color scheme for unfitted estimators */\n",
       "  --sklearn-color-unfitted-level-0: #fff5e6;\n",
       "  --sklearn-color-unfitted-level-1: #f6e4d2;\n",
       "  --sklearn-color-unfitted-level-2: #ffe0b3;\n",
       "  --sklearn-color-unfitted-level-3: chocolate;\n",
       "  /* Definition of color scheme for fitted estimators */\n",
       "  --sklearn-color-fitted-level-0: #f0f8ff;\n",
       "  --sklearn-color-fitted-level-1: #d4ebff;\n",
       "  --sklearn-color-fitted-level-2: #b3dbfd;\n",
       "  --sklearn-color-fitted-level-3: cornflowerblue;\n",
       "\n",
       "  /* Specific color for light theme */\n",
       "  --sklearn-color-text-on-default-background: var(--sg-text-color, var(--theme-code-foreground, var(--jp-content-font-color1, black)));\n",
       "  --sklearn-color-background: var(--sg-background-color, var(--theme-background, var(--jp-layout-color0, white)));\n",
       "  --sklearn-color-border-box: var(--sg-text-color, var(--theme-code-foreground, var(--jp-content-font-color1, black)));\n",
       "  --sklearn-color-icon: #696969;\n",
       "\n",
       "  @media (prefers-color-scheme: dark) {\n",
       "    /* Redefinition of color scheme for dark theme */\n",
       "    --sklearn-color-text-on-default-background: var(--sg-text-color, var(--theme-code-foreground, var(--jp-content-font-color1, white)));\n",
       "    --sklearn-color-background: var(--sg-background-color, var(--theme-background, var(--jp-layout-color0, #111)));\n",
       "    --sklearn-color-border-box: var(--sg-text-color, var(--theme-code-foreground, var(--jp-content-font-color1, white)));\n",
       "    --sklearn-color-icon: #878787;\n",
       "  }\n",
       "}\n",
       "\n",
       "#sk-container-id-1 {\n",
       "  color: var(--sklearn-color-text);\n",
       "}\n",
       "\n",
       "#sk-container-id-1 pre {\n",
       "  padding: 0;\n",
       "}\n",
       "\n",
       "#sk-container-id-1 input.sk-hidden--visually {\n",
       "  border: 0;\n",
       "  clip: rect(1px 1px 1px 1px);\n",
       "  clip: rect(1px, 1px, 1px, 1px);\n",
       "  height: 1px;\n",
       "  margin: -1px;\n",
       "  overflow: hidden;\n",
       "  padding: 0;\n",
       "  position: absolute;\n",
       "  width: 1px;\n",
       "}\n",
       "\n",
       "#sk-container-id-1 div.sk-dashed-wrapped {\n",
       "  border: 1px dashed var(--sklearn-color-line);\n",
       "  margin: 0 0.4em 0.5em 0.4em;\n",
       "  box-sizing: border-box;\n",
       "  padding-bottom: 0.4em;\n",
       "  background-color: var(--sklearn-color-background);\n",
       "}\n",
       "\n",
       "#sk-container-id-1 div.sk-container {\n",
       "  /* jupyter's `normalize.less` sets `[hidden] { display: none; }`\n",
       "     but bootstrap.min.css set `[hidden] { display: none !important; }`\n",
       "     so we also need the `!important` here to be able to override the\n",
       "     default hidden behavior on the sphinx rendered scikit-learn.org.\n",
       "     See: https://github.com/scikit-learn/scikit-learn/issues/21755 */\n",
       "  display: inline-block !important;\n",
       "  position: relative;\n",
       "}\n",
       "\n",
       "#sk-container-id-1 div.sk-text-repr-fallback {\n",
       "  display: none;\n",
       "}\n",
       "\n",
       "div.sk-parallel-item,\n",
       "div.sk-serial,\n",
       "div.sk-item {\n",
       "  /* draw centered vertical line to link estimators */\n",
       "  background-image: linear-gradient(var(--sklearn-color-text-on-default-background), var(--sklearn-color-text-on-default-background));\n",
       "  background-size: 2px 100%;\n",
       "  background-repeat: no-repeat;\n",
       "  background-position: center center;\n",
       "}\n",
       "\n",
       "/* Parallel-specific style estimator block */\n",
       "\n",
       "#sk-container-id-1 div.sk-parallel-item::after {\n",
       "  content: \"\";\n",
       "  width: 100%;\n",
       "  border-bottom: 2px solid var(--sklearn-color-text-on-default-background);\n",
       "  flex-grow: 1;\n",
       "}\n",
       "\n",
       "#sk-container-id-1 div.sk-parallel {\n",
       "  display: flex;\n",
       "  align-items: stretch;\n",
       "  justify-content: center;\n",
       "  background-color: var(--sklearn-color-background);\n",
       "  position: relative;\n",
       "}\n",
       "\n",
       "#sk-container-id-1 div.sk-parallel-item {\n",
       "  display: flex;\n",
       "  flex-direction: column;\n",
       "}\n",
       "\n",
       "#sk-container-id-1 div.sk-parallel-item:first-child::after {\n",
       "  align-self: flex-end;\n",
       "  width: 50%;\n",
       "}\n",
       "\n",
       "#sk-container-id-1 div.sk-parallel-item:last-child::after {\n",
       "  align-self: flex-start;\n",
       "  width: 50%;\n",
       "}\n",
       "\n",
       "#sk-container-id-1 div.sk-parallel-item:only-child::after {\n",
       "  width: 0;\n",
       "}\n",
       "\n",
       "/* Serial-specific style estimator block */\n",
       "\n",
       "#sk-container-id-1 div.sk-serial {\n",
       "  display: flex;\n",
       "  flex-direction: column;\n",
       "  align-items: center;\n",
       "  background-color: var(--sklearn-color-background);\n",
       "  padding-right: 1em;\n",
       "  padding-left: 1em;\n",
       "}\n",
       "\n",
       "\n",
       "/* Toggleable style: style used for estimator/Pipeline/ColumnTransformer box that is\n",
       "clickable and can be expanded/collapsed.\n",
       "- Pipeline and ColumnTransformer use this feature and define the default style\n",
       "- Estimators will overwrite some part of the style using the `sk-estimator` class\n",
       "*/\n",
       "\n",
       "/* Pipeline and ColumnTransformer style (default) */\n",
       "\n",
       "#sk-container-id-1 div.sk-toggleable {\n",
       "  /* Default theme specific background. It is overwritten whether we have a\n",
       "  specific estimator or a Pipeline/ColumnTransformer */\n",
       "  background-color: var(--sklearn-color-background);\n",
       "}\n",
       "\n",
       "/* Toggleable label */\n",
       "#sk-container-id-1 label.sk-toggleable__label {\n",
       "  cursor: pointer;\n",
       "  display: block;\n",
       "  width: 100%;\n",
       "  margin-bottom: 0;\n",
       "  padding: 0.5em;\n",
       "  box-sizing: border-box;\n",
       "  text-align: center;\n",
       "}\n",
       "\n",
       "#sk-container-id-1 label.sk-toggleable__label-arrow:before {\n",
       "  /* Arrow on the left of the label */\n",
       "  content: \"▸\";\n",
       "  float: left;\n",
       "  margin-right: 0.25em;\n",
       "  color: var(--sklearn-color-icon);\n",
       "}\n",
       "\n",
       "#sk-container-id-1 label.sk-toggleable__label-arrow:hover:before {\n",
       "  color: var(--sklearn-color-text);\n",
       "}\n",
       "\n",
       "/* Toggleable content - dropdown */\n",
       "\n",
       "#sk-container-id-1 div.sk-toggleable__content {\n",
       "  max-height: 0;\n",
       "  max-width: 0;\n",
       "  overflow: hidden;\n",
       "  text-align: left;\n",
       "  /* unfitted */\n",
       "  background-color: var(--sklearn-color-unfitted-level-0);\n",
       "}\n",
       "\n",
       "#sk-container-id-1 div.sk-toggleable__content.fitted {\n",
       "  /* fitted */\n",
       "  background-color: var(--sklearn-color-fitted-level-0);\n",
       "}\n",
       "\n",
       "#sk-container-id-1 div.sk-toggleable__content pre {\n",
       "  margin: 0.2em;\n",
       "  border-radius: 0.25em;\n",
       "  color: var(--sklearn-color-text);\n",
       "  /* unfitted */\n",
       "  background-color: var(--sklearn-color-unfitted-level-0);\n",
       "}\n",
       "\n",
       "#sk-container-id-1 div.sk-toggleable__content.fitted pre {\n",
       "  /* unfitted */\n",
       "  background-color: var(--sklearn-color-fitted-level-0);\n",
       "}\n",
       "\n",
       "#sk-container-id-1 input.sk-toggleable__control:checked~div.sk-toggleable__content {\n",
       "  /* Expand drop-down */\n",
       "  max-height: 200px;\n",
       "  max-width: 100%;\n",
       "  overflow: auto;\n",
       "}\n",
       "\n",
       "#sk-container-id-1 input.sk-toggleable__control:checked~label.sk-toggleable__label-arrow:before {\n",
       "  content: \"▾\";\n",
       "}\n",
       "\n",
       "/* Pipeline/ColumnTransformer-specific style */\n",
       "\n",
       "#sk-container-id-1 div.sk-label input.sk-toggleable__control:checked~label.sk-toggleable__label {\n",
       "  color: var(--sklearn-color-text);\n",
       "  background-color: var(--sklearn-color-unfitted-level-2);\n",
       "}\n",
       "\n",
       "#sk-container-id-1 div.sk-label.fitted input.sk-toggleable__control:checked~label.sk-toggleable__label {\n",
       "  background-color: var(--sklearn-color-fitted-level-2);\n",
       "}\n",
       "\n",
       "/* Estimator-specific style */\n",
       "\n",
       "/* Colorize estimator box */\n",
       "#sk-container-id-1 div.sk-estimator input.sk-toggleable__control:checked~label.sk-toggleable__label {\n",
       "  /* unfitted */\n",
       "  background-color: var(--sklearn-color-unfitted-level-2);\n",
       "}\n",
       "\n",
       "#sk-container-id-1 div.sk-estimator.fitted input.sk-toggleable__control:checked~label.sk-toggleable__label {\n",
       "  /* fitted */\n",
       "  background-color: var(--sklearn-color-fitted-level-2);\n",
       "}\n",
       "\n",
       "#sk-container-id-1 div.sk-label label.sk-toggleable__label,\n",
       "#sk-container-id-1 div.sk-label label {\n",
       "  /* The background is the default theme color */\n",
       "  color: var(--sklearn-color-text-on-default-background);\n",
       "}\n",
       "\n",
       "/* On hover, darken the color of the background */\n",
       "#sk-container-id-1 div.sk-label:hover label.sk-toggleable__label {\n",
       "  color: var(--sklearn-color-text);\n",
       "  background-color: var(--sklearn-color-unfitted-level-2);\n",
       "}\n",
       "\n",
       "/* Label box, darken color on hover, fitted */\n",
       "#sk-container-id-1 div.sk-label.fitted:hover label.sk-toggleable__label.fitted {\n",
       "  color: var(--sklearn-color-text);\n",
       "  background-color: var(--sklearn-color-fitted-level-2);\n",
       "}\n",
       "\n",
       "/* Estimator label */\n",
       "\n",
       "#sk-container-id-1 div.sk-label label {\n",
       "  font-family: monospace;\n",
       "  font-weight: bold;\n",
       "  display: inline-block;\n",
       "  line-height: 1.2em;\n",
       "}\n",
       "\n",
       "#sk-container-id-1 div.sk-label-container {\n",
       "  text-align: center;\n",
       "}\n",
       "\n",
       "/* Estimator-specific */\n",
       "#sk-container-id-1 div.sk-estimator {\n",
       "  font-family: monospace;\n",
       "  border: 1px dotted var(--sklearn-color-border-box);\n",
       "  border-radius: 0.25em;\n",
       "  box-sizing: border-box;\n",
       "  margin-bottom: 0.5em;\n",
       "  /* unfitted */\n",
       "  background-color: var(--sklearn-color-unfitted-level-0);\n",
       "}\n",
       "\n",
       "#sk-container-id-1 div.sk-estimator.fitted {\n",
       "  /* fitted */\n",
       "  background-color: var(--sklearn-color-fitted-level-0);\n",
       "}\n",
       "\n",
       "/* on hover */\n",
       "#sk-container-id-1 div.sk-estimator:hover {\n",
       "  /* unfitted */\n",
       "  background-color: var(--sklearn-color-unfitted-level-2);\n",
       "}\n",
       "\n",
       "#sk-container-id-1 div.sk-estimator.fitted:hover {\n",
       "  /* fitted */\n",
       "  background-color: var(--sklearn-color-fitted-level-2);\n",
       "}\n",
       "\n",
       "/* Specification for estimator info (e.g. \"i\" and \"?\") */\n",
       "\n",
       "/* Common style for \"i\" and \"?\" */\n",
       "\n",
       ".sk-estimator-doc-link,\n",
       "a:link.sk-estimator-doc-link,\n",
       "a:visited.sk-estimator-doc-link {\n",
       "  float: right;\n",
       "  font-size: smaller;\n",
       "  line-height: 1em;\n",
       "  font-family: monospace;\n",
       "  background-color: var(--sklearn-color-background);\n",
       "  border-radius: 1em;\n",
       "  height: 1em;\n",
       "  width: 1em;\n",
       "  text-decoration: none !important;\n",
       "  margin-left: 1ex;\n",
       "  /* unfitted */\n",
       "  border: var(--sklearn-color-unfitted-level-1) 1pt solid;\n",
       "  color: var(--sklearn-color-unfitted-level-1);\n",
       "}\n",
       "\n",
       ".sk-estimator-doc-link.fitted,\n",
       "a:link.sk-estimator-doc-link.fitted,\n",
       "a:visited.sk-estimator-doc-link.fitted {\n",
       "  /* fitted */\n",
       "  border: var(--sklearn-color-fitted-level-1) 1pt solid;\n",
       "  color: var(--sklearn-color-fitted-level-1);\n",
       "}\n",
       "\n",
       "/* On hover */\n",
       "div.sk-estimator:hover .sk-estimator-doc-link:hover,\n",
       ".sk-estimator-doc-link:hover,\n",
       "div.sk-label-container:hover .sk-estimator-doc-link:hover,\n",
       ".sk-estimator-doc-link:hover {\n",
       "  /* unfitted */\n",
       "  background-color: var(--sklearn-color-unfitted-level-3);\n",
       "  color: var(--sklearn-color-background);\n",
       "  text-decoration: none;\n",
       "}\n",
       "\n",
       "div.sk-estimator.fitted:hover .sk-estimator-doc-link.fitted:hover,\n",
       ".sk-estimator-doc-link.fitted:hover,\n",
       "div.sk-label-container:hover .sk-estimator-doc-link.fitted:hover,\n",
       ".sk-estimator-doc-link.fitted:hover {\n",
       "  /* fitted */\n",
       "  background-color: var(--sklearn-color-fitted-level-3);\n",
       "  color: var(--sklearn-color-background);\n",
       "  text-decoration: none;\n",
       "}\n",
       "\n",
       "/* Span, style for the box shown on hovering the info icon */\n",
       ".sk-estimator-doc-link span {\n",
       "  display: none;\n",
       "  z-index: 9999;\n",
       "  position: relative;\n",
       "  font-weight: normal;\n",
       "  right: .2ex;\n",
       "  padding: .5ex;\n",
       "  margin: .5ex;\n",
       "  width: min-content;\n",
       "  min-width: 20ex;\n",
       "  max-width: 50ex;\n",
       "  color: var(--sklearn-color-text);\n",
       "  box-shadow: 2pt 2pt 4pt #999;\n",
       "  /* unfitted */\n",
       "  background: var(--sklearn-color-unfitted-level-0);\n",
       "  border: .5pt solid var(--sklearn-color-unfitted-level-3);\n",
       "}\n",
       "\n",
       ".sk-estimator-doc-link.fitted span {\n",
       "  /* fitted */\n",
       "  background: var(--sklearn-color-fitted-level-0);\n",
       "  border: var(--sklearn-color-fitted-level-3);\n",
       "}\n",
       "\n",
       ".sk-estimator-doc-link:hover span {\n",
       "  display: block;\n",
       "}\n",
       "\n",
       "/* \"?\"-specific style due to the `<a>` HTML tag */\n",
       "\n",
       "#sk-container-id-1 a.estimator_doc_link {\n",
       "  float: right;\n",
       "  font-size: 1rem;\n",
       "  line-height: 1em;\n",
       "  font-family: monospace;\n",
       "  background-color: var(--sklearn-color-background);\n",
       "  border-radius: 1rem;\n",
       "  height: 1rem;\n",
       "  width: 1rem;\n",
       "  text-decoration: none;\n",
       "  /* unfitted */\n",
       "  color: var(--sklearn-color-unfitted-level-1);\n",
       "  border: var(--sklearn-color-unfitted-level-1) 1pt solid;\n",
       "}\n",
       "\n",
       "#sk-container-id-1 a.estimator_doc_link.fitted {\n",
       "  /* fitted */\n",
       "  border: var(--sklearn-color-fitted-level-1) 1pt solid;\n",
       "  color: var(--sklearn-color-fitted-level-1);\n",
       "}\n",
       "\n",
       "/* On hover */\n",
       "#sk-container-id-1 a.estimator_doc_link:hover {\n",
       "  /* unfitted */\n",
       "  background-color: var(--sklearn-color-unfitted-level-3);\n",
       "  color: var(--sklearn-color-background);\n",
       "  text-decoration: none;\n",
       "}\n",
       "\n",
       "#sk-container-id-1 a.estimator_doc_link.fitted:hover {\n",
       "  /* fitted */\n",
       "  background-color: var(--sklearn-color-fitted-level-3);\n",
       "}\n",
       "</style><div id=\"sk-container-id-1\" class=\"sk-top-container\"><div class=\"sk-text-repr-fallback\"><pre>LGBMClassifier(boosting=&#x27;gbdt&#x27;, is_unbalance=False,\n",
       "               lambda_l1=6.133770089625727e-08, lambda_l2=2.1815578194588485,\n",
       "               learning_rate=0.3747067251453826, min_data_in_leaf=10,\n",
       "               n_estimators=289, num_leaves=54, random_state=0, verbose=-1)</pre><b>In a Jupyter environment, please rerun this cell to show the HTML representation or trust the notebook. <br />On GitHub, the HTML representation is unable to render, please try loading this page with nbviewer.org.</b></div><div class=\"sk-container\" hidden><div class=\"sk-item\"><div class=\"sk-estimator fitted sk-toggleable\"><input class=\"sk-toggleable__control sk-hidden--visually\" id=\"sk-estimator-id-1\" type=\"checkbox\" checked><label for=\"sk-estimator-id-1\" class=\"sk-toggleable__label fitted sk-toggleable__label-arrow fitted\">&nbsp;LGBMClassifier<span class=\"sk-estimator-doc-link fitted\">i<span>Fitted</span></span></label><div class=\"sk-toggleable__content fitted\"><pre>LGBMClassifier(boosting=&#x27;gbdt&#x27;, is_unbalance=False,\n",
       "               lambda_l1=6.133770089625727e-08, lambda_l2=2.1815578194588485,\n",
       "               learning_rate=0.3747067251453826, min_data_in_leaf=10,\n",
       "               n_estimators=289, num_leaves=54, random_state=0, verbose=-1)</pre></div> </div></div></div></div>"
      ],
      "text/plain": [
       "LGBMClassifier(boosting='gbdt', is_unbalance=False,\n",
       "               lambda_l1=6.133770089625727e-08, lambda_l2=2.1815578194588485,\n",
       "               learning_rate=0.3747067251453826, min_data_in_leaf=10,\n",
       "               n_estimators=289, num_leaves=54, random_state=0, verbose=-1)"
      ]
     },
     "execution_count": 14,
     "metadata": {},
     "output_type": "execute_result"
    }
   ],
   "source": [
    "X_thresh_train, X_thresh_val, y_thresh_train, y_thresh_val = train_test_split(\n",
    "    X_train_proc, y_train, test_size=0.2, random_state=0, stratify=y_train\n",
    ")\n",
    "\n",
    "clf = LGBMClassifier(verbose=-1, random_state=0, **study.best_params)\n",
    "clf.fit(X_thresh_train[best_features], y_thresh_train)"
   ]
  },
  {
   "cell_type": "code",
   "execution_count": 15,
   "metadata": {},
   "outputs": [
    {
     "name": "stdout",
     "output_type": "stream",
     "text": [
      "0.3092249345825002\n"
     ]
    },
    {
     "data": {
      "image/png": "[encoded data removed]",
      "text/plain": [
       "<Figure size 640x480 with 1 Axes>"
      ]
     },
     "metadata": {},
     "output_type": "display_data"
    }
   ],
   "source": [
    "precision, recall, thresholds = precision_recall_curve(\n",
    "    y_thresh_val, clf.predict_proba(X_thresh_val[best_features])[:, 1]\n",
    ")\n",
    "f1 = 2 * precision * recall / (precision + recall)\n",
    "best_idx = np.argmax(f1)\n",
    "\n",
    "PrecisionRecallDisplay(precision, recall).plot()\n",
    "plt.scatter(\n",
    "    recall[best_idx],\n",
    "    precision[best_idx],\n",
    "    c=\"tab:red\",\n",
    "    zorder=100,\n",
    "    label=f\"Max F1 ({f1[best_idx]:.3f}, thresh={thresholds[best_idx]:.3f})\",\n",
    ")\n",
    "plt.legend()\n",
    "print(thresholds[best_idx])"
   ]
  },
  {
   "cell_type": "markdown",
   "metadata": {},
   "source": [
    "## Treinamento e Armazenamento do Modelo Final\n",
    "\n",
    "Considerando as features e hiperparâmetros selecionados, criamos um pipeline que opera desde o dataset inicial. Como a feature `qtd_indicadores_zero` está sendo utilizado, é necessário incluir todas as features utilizadas no seu cálculo. Isso significa que a única feature não utilizada é `participacao_falencia_valor`."
   ]
  },
  {
   "cell_type": "code",
   "execution_count": 16,
   "metadata": {},
   "outputs": [
    {
     "name": "stdout",
     "output_type": "stream",
     "text": [
      "Features não utilizadas: {'participacao_falencia_valor'}\n"
     ]
    }
   ],
   "source": [
    "input_features = [\n",
    "    # Features selecionadas anteriormente, exceto as derivas de outras features\n",
    "    \"atividade_principal\",\n",
    "    \"ioi_3months\",\n",
    "    \"valor_quitado\",\n",
    "    \"valor_por_vencer\",\n",
    "    \"month\",\n",
    "    \"valor_total_pedido\",\n",
    "    \"ioi_36months\",\n",
    "    \"year\",\n",
    "    \"tipo_sociedade\",\n",
    "    \"quant_protestos\",\n",
    "    \"opcao_tributaria\",\n",
    "    # Features necessárias para o cálculo de outras features\n",
    "    \"forma_pagamento\",\n",
    "    \"valor_vencido\",\n",
    "    \"default_3months\",\n",
    "    \"valor_protestos\",\n",
    "    \"quant_acao_judicial\",\n",
    "    \"dividas_vencidas_valor\",\n",
    "    \"dividas_vencidas_qtd\",\n",
    "    \"acao_judicial_valor\",\n",
    "    \"falencia_concordata_qtd\",\n",
    "]\n",
    "params = {\n",
    "    \"is_unbalance\": False,\n",
    "    \"learning_rate\": 0.3747067251453826,\n",
    "    \"n_estimators\": 289,\n",
    "    \"boosting\": \"gbdt\",\n",
    "    \"lambda_l1\": 6.133770089625727e-08,\n",
    "    \"lambda_l2\": 2.1815578194588485,\n",
    "    \"num_leaves\": 54,\n",
    "    \"min_data_in_leaf\": 10,\n",
    "}\n",
    "threshold = 0.3092249345825002\n",
    "\n",
    "print(\"Features não utilizadas:\", set(X_train.columns) - set(input_features))"
   ]
  },
  {
   "cell_type": "code",
   "execution_count": 17,
   "metadata": {},
   "outputs": [],
   "source": [
    "preprocessing_part1 = make_column_transformer(\n",
    "    (\n",
    "        FunctionTransformer(processing.fix_amount),\n",
    "        [\n",
    "            \"quant_protestos\",\n",
    "            \"valor_protestos\",\n",
    "            \"dividas_vencidas_qtd\",\n",
    "            \"dividas_vencidas_valor\",\n",
    "            \"quant_acao_judicial\",\n",
    "            \"acao_judicial_valor\",\n",
    "        ],\n",
    "    ),\n",
    "    remainder=\"passthrough\",\n",
    "    verbose_feature_names_out=False,\n",
    ")\n",
    "preprocessing_part2 = make_column_transformer(\n",
    "    (FunctionTransformer(processing.convert_payment_column), [\"forma_pagamento\"]),\n",
    "    (FunctionTransformer(processing.count_zeros), processing.zero_cols),\n",
    "    (\n",
    "        FunctionTransformer(processing.to_category),\n",
    "        [\"tipo_sociedade\", \"opcao_tributaria\", \"atividade_principal\"],\n",
    "    ),\n",
    "    (\n",
    "        # Features que não precisam ser processadas\n",
    "        \"passthrough\",\n",
    "        [\n",
    "            \"ioi_3months\",\n",
    "            \"valor_quitado\",\n",
    "            \"valor_por_vencer\",\n",
    "            \"month\",\n",
    "            \"valor_total_pedido\",\n",
    "            \"ioi_36months\",\n",
    "            \"year\",\n",
    "            \"quant_protestos\",\n",
    "        ],\n",
    "    ),\n",
    "    remainder=\"drop\",\n",
    "    verbose_feature_names_out=False,\n",
    ")\n",
    "\n",
    "preprocessing_part1.set_output(transform=\"pandas\")\n",
    "preprocessing_part2.set_output(transform=\"pandas\")\n",
    "\n",
    "final_model = make_pipeline(\n",
    "    preprocessing_part1,\n",
    "    preprocessing_part2,\n",
    "    LGBMClassifier(verbose=-1, random_state=0, **params),\n",
    ")"
   ]
  },
  {
   "cell_type": "code",
   "execution_count": 18,
   "metadata": {},
   "outputs": [
    {
     "data": {
      "text/html": [
       "<style>#sk-container-id-2 {\n",
       "  /* Definition of color scheme common for light and dark mode */\n",
       "  --sklearn-color-text: black;\n",
       "  --sklearn-color-line: gray;\n",
       "  /* Definition of color scheme for unfitted estimators */\n",
       "  --sklearn-color-unfitted-level-0: #fff5e6;\n",
       "  --sklearn-color-unfitted-level-1: #f6e4d2;\n",
       "  --sklearn-color-unfitted-level-2: #ffe0b3;\n",
       "  --sklearn-color-unfitted-level-3: chocolate;\n",
       "  /* Definition of color scheme for fitted estimators */\n",
       "  --sklearn-color-fitted-level-0: #f0f8ff;\n",
       "  --sklearn-color-fitted-level-1: #d4ebff;\n",
       "  --sklearn-color-fitted-level-2: #b3dbfd;\n",
       "  --sklearn-color-fitted-level-3: cornflowerblue;\n",
       "\n",
       "  /* Specific color for light theme */\n",
       "  --sklearn-color-text-on-default-background: var(--sg-text-color, var(--theme-code-foreground, var(--jp-content-font-color1, black)));\n",
       "  --sklearn-color-background: var(--sg-background-color, var(--theme-background, var(--jp-layout-color0, white)));\n",
       "  --sklearn-color-border-box: var(--sg-text-color, var(--theme-code-foreground, var(--jp-content-font-color1, black)));\n",
       "  --sklearn-color-icon: #696969;\n",
       "\n",
       "  @media (prefers-color-scheme: dark) {\n",
       "    /* Redefinition of color scheme for dark theme */\n",
       "    --sklearn-color-text-on-default-background: var(--sg-text-color, var(--theme-code-foreground, var(--jp-content-font-color1, white)));\n",
       "    --sklearn-color-background: var(--sg-background-color, var(--theme-background, var(--jp-layout-color0, #111)));\n",
       "    --sklearn-color-border-box: var(--sg-text-color, var(--theme-code-foreground, var(--jp-content-font-color1, white)));\n",
       "    --sklearn-color-icon: #878787;\n",
       "  }\n",
       "}\n",
       "\n",
       "#sk-container-id-2 {\n",
       "  color: var(--sklearn-color-text);\n",
       "}\n",
       "\n",
       "#sk-container-id-2 pre {\n",
       "  padding: 0;\n",
       "}\n",
       "\n",
       "#sk-container-id-2 input.sk-hidden--visually {\n",
       "  border: 0;\n",
       "  clip: rect(1px 1px 1px 1px);\n",
       "  clip: rect(1px, 1px, 1px, 1px);\n",
       "  height: 1px;\n",
       "  margin: -1px;\n",
       "  overflow: hidden;\n",
       "  padding: 0;\n",
       "  position: absolute;\n",
       "  width: 1px;\n",
       "}\n",
       "\n",
       "#sk-container-id-2 div.sk-dashed-wrapped {\n",
       "  border: 1px dashed var(--sklearn-color-line);\n",
       "  margin: 0 0.4em 0.5em 0.4em;\n",
       "  box-sizing: border-box;\n",
       "  padding-bottom: 0.4em;\n",
       "  background-color: var(--sklearn-color-background);\n",
       "}\n",
       "\n",
       "#sk-container-id-2 div.sk-container {\n",
       "  /* jupyter's `normalize.less` sets `[hidden] { display: none; }`\n",
       "     but bootstrap.min.css set `[hidden] { display: none !important; }`\n",
       "     so we also need the `!important` here to be able to override the\n",
       "     default hidden behavior on the sphinx rendered scikit-learn.org.\n",
       "     See: https://github.com/scikit-learn/scikit-learn/issues/21755 */\n",
       "  display: inline-block !important;\n",
       "  position: relative;\n",
       "}\n",
       "\n",
       "#sk-container-id-2 div.sk-text-repr-fallback {\n",
       "  display: none;\n",
       "}\n",
       "\n",
       "div.sk-parallel-item,\n",
       "div.sk-serial,\n",
       "div.sk-item {\n",
       "  /* draw centered vertical line to link estimators */\n",
       "  background-image: linear-gradient(var(--sklearn-color-text-on-default-background), var(--sklearn-color-text-on-default-background));\n",
       "  background-size: 2px 100%;\n",
       "  background-repeat: no-repeat;\n",
       "  background-position: center center;\n",
       "}\n",
       "\n",
       "/* Parallel-specific style estimator block */\n",
       "\n",
       "#sk-container-id-2 div.sk-parallel-item::after {\n",
       "  content: \"\";\n",
       "  width: 100%;\n",
       "  border-bottom: 2px solid var(--sklearn-color-text-on-default-background);\n",
       "  flex-grow: 1;\n",
       "}\n",
       "\n",
       "#sk-container-id-2 div.sk-parallel {\n",
       "  display: flex;\n",
       "  align-items: stretch;\n",
       "  justify-content: center;\n",
       "  background-color: var(--sklearn-color-background);\n",
       "  position: relative;\n",
       "}\n",
       "\n",
       "#sk-container-id-2 div.sk-parallel-item {\n",
       "  display: flex;\n",
       "  flex-direction: column;\n",
       "}\n",
       "\n",
       "#sk-container-id-2 div.sk-parallel-item:first-child::after {\n",
       "  align-self: flex-end;\n",
       "  width: 50%;\n",
       "}\n",
       "\n",
       "#sk-container-id-2 div.sk-parallel-item:last-child::after {\n",
       "  align-self: flex-start;\n",
       "  width: 50%;\n",
       "}\n",
       "\n",
       "#sk-container-id-2 div.sk-parallel-item:only-child::after {\n",
       "  width: 0;\n",
       "}\n",
       "\n",
       "/* Serial-specific style estimator block */\n",
       "\n",
       "#sk-container-id-2 div.sk-serial {\n",
       "  display: flex;\n",
       "  flex-direction: column;\n",
       "  align-items: center;\n",
       "  background-color: var(--sklearn-color-background);\n",
       "  padding-right: 1em;\n",
       "  padding-left: 1em;\n",
       "}\n",
       "\n",
       "\n",
       "/* Toggleable style: style used for estimator/Pipeline/ColumnTransformer box that is\n",
       "clickable and can be expanded/collapsed.\n",
       "- Pipeline and ColumnTransformer use this feature and define the default style\n",
       "- Estimators will overwrite some part of the style using the `sk-estimator` class\n",
       "*/\n",
       "\n",
       "/* Pipeline and ColumnTransformer style (default) */\n",
       "\n",
       "#sk-container-id-2 div.sk-toggleable {\n",
       "  /* Default theme specific background. It is overwritten whether we have a\n",
       "  specific estimator or a Pipeline/ColumnTransformer */\n",
       "  background-color: var(--sklearn-color-background);\n",
       "}\n",
       "\n",
       "/* Toggleable label */\n",
       "#sk-container-id-2 label.sk-toggleable__label {\n",
       "  cursor: pointer;\n",
       "  display: block;\n",
       "  width: 100%;\n",
       "  margin-bottom: 0;\n",
       "  padding: 0.5em;\n",
       "  box-sizing: border-box;\n",
       "  text-align: center;\n",
       "}\n",
       "\n",
       "#sk-container-id-2 label.sk-toggleable__label-arrow:before {\n",
       "  /* Arrow on the left of the label */\n",
       "  content: \"▸\";\n",
       "  float: left;\n",
       "  margin-right: 0.25em;\n",
       "  color: var(--sklearn-color-icon);\n",
       "}\n",
       "\n",
       "#sk-container-id-2 label.sk-toggleable__label-arrow:hover:before {\n",
       "  color: var(--sklearn-color-text);\n",
       "}\n",
       "\n",
       "/* Toggleable content - dropdown */\n",
       "\n",
       "#sk-container-id-2 div.sk-toggleable__content {\n",
       "  max-height: 0;\n",
       "  max-width: 0;\n",
       "  overflow: hidden;\n",
       "  text-align: left;\n",
       "  /* unfitted */\n",
       "  background-color: var(--sklearn-color-unfitted-level-0);\n",
       "}\n",
       "\n",
       "#sk-container-id-2 div.sk-toggleable__content.fitted {\n",
       "  /* fitted */\n",
       "  background-color: var(--sklearn-color-fitted-level-0);\n",
       "}\n",
       "\n",
       "#sk-container-id-2 div.sk-toggleable__content pre {\n",
       "  margin: 0.2em;\n",
       "  border-radius: 0.25em;\n",
       "  color: var(--sklearn-color-text);\n",
       "  /* unfitted */\n",
       "  background-color: var(--sklearn-color-unfitted-level-0);\n",
       "}\n",
       "\n",
       "#sk-container-id-2 div.sk-toggleable__content.fitted pre {\n",
       "  /* unfitted */\n",
       "  background-color: var(--sklearn-color-fitted-level-0);\n",
       "}\n",
       "\n",
       "#sk-container-id-2 input.sk-toggleable__control:checked~div.sk-toggleable__content {\n",
       "  /* Expand drop-down */\n",
       "  max-height: 200px;\n",
       "  max-width: 100%;\n",
       "  overflow: auto;\n",
       "}\n",
       "\n",
       "#sk-container-id-2 input.sk-toggleable__control:checked~label.sk-toggleable__label-arrow:before {\n",
       "  content: \"▾\";\n",
       "}\n",
       "\n",
       "/* Pipeline/ColumnTransformer-specific style */\n",
       "\n",
       "#sk-container-id-2 div.sk-label input.sk-toggleable__control:checked~label.sk-toggleable__label {\n",
       "  color: var(--sklearn-color-text);\n",
       "  background-color: var(--sklearn-color-unfitted-level-2);\n",
       "}\n",
       "\n",
       "#sk-container-id-2 div.sk-label.fitted input.sk-toggleable__control:checked~label.sk-toggleable__label {\n",
       "  background-color: var(--sklearn-color-fitted-level-2);\n",
       "}\n",
       "\n",
       "/* Estimator-specific style */\n",
       "\n",
       "/* Colorize estimator box */\n",
       "#sk-container-id-2 div.sk-estimator input.sk-toggleable__control:checked~label.sk-toggleable__label {\n",
       "  /* unfitted */\n",
       "  background-color: var(--sklearn-color-unfitted-level-2);\n",
       "}\n",
       "\n",
       "#sk-container-id-2 div.sk-estimator.fitted input.sk-toggleable__control:checked~label.sk-toggleable__label {\n",
       "  /* fitted */\n",
       "  background-color: var(--sklearn-color-fitted-level-2);\n",
       "}\n",
       "\n",
       "#sk-container-id-2 div.sk-label label.sk-toggleable__label,\n",
       "#sk-container-id-2 div.sk-label label {\n",
       "  /* The background is the default theme color */\n",
       "  color: var(--sklearn-color-text-on-default-background);\n",
       "}\n",
       "\n",
       "/* On hover, darken the color of the background */\n",
       "#sk-container-id-2 div.sk-label:hover label.sk-toggleable__label {\n",
       "  color: var(--sklearn-color-text);\n",
       "  background-color: var(--sklearn-color-unfitted-level-2);\n",
       "}\n",
       "\n",
       "/* Label box, darken color on hover, fitted */\n",
       "#sk-container-id-2 div.sk-label.fitted:hover label.sk-toggleable__label.fitted {\n",
       "  color: var(--sklearn-color-text);\n",
       "  background-color: var(--sklearn-color-fitted-level-2);\n",
       "}\n",
       "\n",
       "/* Estimator label */\n",
       "\n",
       "#sk-container-id-2 div.sk-label label {\n",
       "  font-family: monospace;\n",
       "  font-weight: bold;\n",
       "  display: inline-block;\n",
       "  line-height: 1.2em;\n",
       "}\n",
       "\n",
       "#sk-container-id-2 div.sk-label-container {\n",
       "  text-align: center;\n",
       "}\n",
       "\n",
       "/* Estimator-specific */\n",
       "#sk-container-id-2 div.sk-estimator {\n",
       "  font-family: monospace;\n",
       "  border: 1px dotted var(--sklearn-color-border-box);\n",
       "  border-radius: 0.25em;\n",
       "  box-sizing: border-box;\n",
       "  margin-bottom: 0.5em;\n",
       "  /* unfitted */\n",
       "  background-color: var(--sklearn-color-unfitted-level-0);\n",
       "}\n",
       "\n",
       "#sk-container-id-2 div.sk-estimator.fitted {\n",
       "  /* fitted */\n",
       "  background-color: var(--sklearn-color-fitted-level-0);\n",
       "}\n",
       "\n",
       "/* on hover */\n",
       "#sk-container-id-2 div.sk-estimator:hover {\n",
       "  /* unfitted */\n",
       "  background-color: var(--sklearn-color-unfitted-level-2);\n",
       "}\n",
       "\n",
       "#sk-container-id-2 div.sk-estimator.fitted:hover {\n",
       "  /* fitted */\n",
       "  background-color: var(--sklearn-color-fitted-level-2);\n",
       "}\n",
       "\n",
       "/* Specification for estimator info (e.g. \"i\" and \"?\") */\n",
       "\n",
       "/* Common style for \"i\" and \"?\" */\n",
       "\n",
       ".sk-estimator-doc-link,\n",
       "a:link.sk-estimator-doc-link,\n",
       "a:visited.sk-estimator-doc-link {\n",
       "  float: right;\n",
       "  font-size: smaller;\n",
       "  line-height: 1em;\n",
       "  font-family: monospace;\n",
       "  background-color: var(--sklearn-color-background);\n",
       "  border-radius: 1em;\n",
       "  height: 1em;\n",
       "  width: 1em;\n",
       "  text-decoration: none !important;\n",
       "  margin-left: 1ex;\n",
       "  /* unfitted */\n",
       "  border: var(--sklearn-color-unfitted-level-1) 1pt solid;\n",
       "  color: var(--sklearn-color-unfitted-level-1);\n",
       "}\n",
       "\n",
       ".sk-estimator-doc-link.fitted,\n",
       "a:link.sk-estimator-doc-link.fitted,\n",
       "a:visited.sk-estimator-doc-link.fitted {\n",
       "  /* fitted */\n",
       "  border: var(--sklearn-color-fitted-level-1) 1pt solid;\n",
       "  color: var(--sklearn-color-fitted-level-1);\n",
       "}\n",
       "\n",
       "/* On hover */\n",
       "div.sk-estimator:hover .sk-estimator-doc-link:hover,\n",
       ".sk-estimator-doc-link:hover,\n",
       "div.sk-label-container:hover .sk-estimator-doc-link:hover,\n",
       ".sk-estimator-doc-link:hover {\n",
       "  /* unfitted */\n",
       "  background-color: var(--sklearn-color-unfitted-level-3);\n",
       "  color: var(--sklearn-color-background);\n",
       "  text-decoration: none;\n",
       "}\n",
       "\n",
       "div.sk-estimator.fitted:hover .sk-estimator-doc-link.fitted:hover,\n",
       ".sk-estimator-doc-link.fitted:hover,\n",
       "div.sk-label-container:hover .sk-estimator-doc-link.fitted:hover,\n",
       ".sk-estimator-doc-link.fitted:hover {\n",
       "  /* fitted */\n",
       "  background-color: var(--sklearn-color-fitted-level-3);\n",
       "  color: var(--sklearn-color-background);\n",
       "  text-decoration: none;\n",
       "}\n",
       "\n",
       "/* Span, style for the box shown on hovering the info icon */\n",
       ".sk-estimator-doc-link span {\n",
       "  display: none;\n",
       "  z-index: 9999;\n",
       "  position: relative;\n",
       "  font-weight: normal;\n",
       "  right: .2ex;\n",
       "  padding: .5ex;\n",
       "  margin: .5ex;\n",
       "  width: min-content;\n",
       "  min-width: 20ex;\n",
       "  max-width: 50ex;\n",
       "  color: var(--sklearn-color-text);\n",
       "  box-shadow: 2pt 2pt 4pt #999;\n",
       "  /* unfitted */\n",
       "  background: var(--sklearn-color-unfitted-level-0);\n",
       "  border: .5pt solid var(--sklearn-color-unfitted-level-3);\n",
       "}\n",
       "\n",
       ".sk-estimator-doc-link.fitted span {\n",
       "  /* fitted */\n",
       "  background: var(--sklearn-color-fitted-level-0);\n",
       "  border: var(--sklearn-color-fitted-level-3);\n",
       "}\n",
       "\n",
       ".sk-estimator-doc-link:hover span {\n",
       "  display: block;\n",
       "}\n",
       "\n",
       "/* \"?\"-specific style due to the `<a>` HTML tag */\n",
       "\n",
       "#sk-container-id-2 a.estimator_doc_link {\n",
       "  float: right;\n",
       "  font-size: 1rem;\n",
       "  line-height: 1em;\n",
       "  font-family: monospace;\n",
       "  background-color: var(--sklearn-color-background);\n",
       "  border-radius: 1rem;\n",
       "  height: 1rem;\n",
       "  width: 1rem;\n",
       "  text-decoration: none;\n",
       "  /* unfitted */\n",
       "  color: var(--sklearn-color-unfitted-level-1);\n",
       "  border: var(--sklearn-color-unfitted-level-1) 1pt solid;\n",
       "}\n",
       "\n",
       "#sk-container-id-2 a.estimator_doc_link.fitted {\n",
       "  /* fitted */\n",
       "  border: var(--sklearn-color-fitted-level-1) 1pt solid;\n",
       "  color: var(--sklearn-color-fitted-level-1);\n",
       "}\n",
       "\n",
       "/* On hover */\n",
       "#sk-container-id-2 a.estimator_doc_link:hover {\n",
       "  /* unfitted */\n",
       "  background-color: var(--sklearn-color-unfitted-level-3);\n",
       "  color: var(--sklearn-color-background);\n",
       "  text-decoration: none;\n",
       "}\n",
       "\n",
       "#sk-container-id-2 a.estimator_doc_link.fitted:hover {\n",
       "  /* fitted */\n",
       "  background-color: var(--sklearn-color-fitted-level-3);\n",
       "}\n",
       "</style><div id=\"sk-container-id-2\" class=\"sk-top-container\"><div class=\"sk-text-repr-fallback\"><pre>Pipeline(steps=[(&#x27;columntransformer-1&#x27;,\n",
       "                 ColumnTransformer(remainder=&#x27;passthrough&#x27;,\n",
       "                                   transformers=[(&#x27;functiontransformer&#x27;,\n",
       "                                                  FunctionTransformer(func=&lt;function fix_amount at 0x7080655e5090&gt;),\n",
       "                                                  [&#x27;quant_protestos&#x27;,\n",
       "                                                   &#x27;valor_protestos&#x27;,\n",
       "                                                   &#x27;dividas_vencidas_qtd&#x27;,\n",
       "                                                   &#x27;dividas_vencidas_valor&#x27;,\n",
       "                                                   &#x27;quant_acao_judicial&#x27;,\n",
       "                                                   &#x27;acao_judicial_valor&#x27;])],\n",
       "                                   verbose_feature_names_out=False)),\n",
       "                (&#x27;c...\n",
       "                                                   &#x27;valor_por_vencer&#x27;, &#x27;month&#x27;,\n",
       "                                                   &#x27;valor_total_pedido&#x27;,\n",
       "                                                   &#x27;ioi_36months&#x27;, &#x27;year&#x27;,\n",
       "                                                   &#x27;quant_protestos&#x27;])],\n",
       "                                   verbose_feature_names_out=False)),\n",
       "                (&#x27;lgbmclassifier&#x27;,\n",
       "                 LGBMClassifier(boosting=&#x27;gbdt&#x27;, is_unbalance=False,\n",
       "                                lambda_l1=6.133770089625727e-08,\n",
       "                                lambda_l2=2.1815578194588485,\n",
       "                                learning_rate=0.3747067251453826,\n",
       "                                min_data_in_leaf=10, n_estimators=289,\n",
       "                                num_leaves=54, random_state=0, verbose=-1))])</pre><b>In a Jupyter environment, please rerun this cell to show the HTML representation or trust the notebook. <br />On GitHub, the HTML representation is unable to render, please try loading this page with nbviewer.org.</b></div><div class=\"sk-container\" hidden><div class=\"sk-item sk-dashed-wrapped\"><div class=\"sk-label-container\"><div class=\"sk-label fitted sk-toggleable\"><input class=\"sk-toggleable__control sk-hidden--visually\" id=\"sk-estimator-id-2\" type=\"checkbox\" ><label for=\"sk-estimator-id-2\" class=\"sk-toggleable__label fitted sk-toggleable__label-arrow fitted\">&nbsp;&nbsp;Pipeline<a class=\"sk-estimator-doc-link fitted\" rel=\"noreferrer\" target=\"_blank\" href=\"https://scikit-learn.org/1.4/modules/generated/sklearn.pipeline.Pipeline.html\">?<span>Documentation for Pipeline</span></a><span class=\"sk-estimator-doc-link fitted\">i<span>Fitted</span></span></label><div class=\"sk-toggleable__content fitted\"><pre>Pipeline(steps=[(&#x27;columntransformer-1&#x27;,\n",
       "                 ColumnTransformer(remainder=&#x27;passthrough&#x27;,\n",
       "                                   transformers=[(&#x27;functiontransformer&#x27;,\n",
       "                                                  FunctionTransformer(func=&lt;function fix_amount at 0x7080655e5090&gt;),\n",
       "                                                  [&#x27;quant_protestos&#x27;,\n",
       "                                                   &#x27;valor_protestos&#x27;,\n",
       "                                                   &#x27;dividas_vencidas_qtd&#x27;,\n",
       "                                                   &#x27;dividas_vencidas_valor&#x27;,\n",
       "                                                   &#x27;quant_acao_judicial&#x27;,\n",
       "                                                   &#x27;acao_judicial_valor&#x27;])],\n",
       "                                   verbose_feature_names_out=False)),\n",
       "                (&#x27;c...\n",
       "                                                   &#x27;valor_por_vencer&#x27;, &#x27;month&#x27;,\n",
       "                                                   &#x27;valor_total_pedido&#x27;,\n",
       "                                                   &#x27;ioi_36months&#x27;, &#x27;year&#x27;,\n",
       "                                                   &#x27;quant_protestos&#x27;])],\n",
       "                                   verbose_feature_names_out=False)),\n",
       "                (&#x27;lgbmclassifier&#x27;,\n",
       "                 LGBMClassifier(boosting=&#x27;gbdt&#x27;, is_unbalance=False,\n",
       "                                lambda_l1=6.133770089625727e-08,\n",
       "                                lambda_l2=2.1815578194588485,\n",
       "                                learning_rate=0.3747067251453826,\n",
       "                                min_data_in_leaf=10, n_estimators=289,\n",
       "                                num_leaves=54, random_state=0, verbose=-1))])</pre></div> </div></div><div class=\"sk-serial\"><div class=\"sk-item sk-dashed-wrapped\"><div class=\"sk-label-container\"><div class=\"sk-label fitted sk-toggleable\"><input class=\"sk-toggleable__control sk-hidden--visually\" id=\"sk-estimator-id-3\" type=\"checkbox\" ><label for=\"sk-estimator-id-3\" class=\"sk-toggleable__label fitted sk-toggleable__label-arrow fitted\">&nbsp;columntransformer-1: ColumnTransformer<a class=\"sk-estimator-doc-link fitted\" rel=\"noreferrer\" target=\"_blank\" href=\"https://scikit-learn.org/1.4/modules/generated/sklearn.compose.ColumnTransformer.html\">?<span>Documentation for columntransformer-1: ColumnTransformer</span></a></label><div class=\"sk-toggleable__content fitted\"><pre>ColumnTransformer(remainder=&#x27;passthrough&#x27;,\n",
       "                  transformers=[(&#x27;functiontransformer&#x27;,\n",
       "                                 FunctionTransformer(func=&lt;function fix_amount at 0x7080655e5090&gt;),\n",
       "                                 [&#x27;quant_protestos&#x27;, &#x27;valor_protestos&#x27;,\n",
       "                                  &#x27;dividas_vencidas_qtd&#x27;,\n",
       "                                  &#x27;dividas_vencidas_valor&#x27;,\n",
       "                                  &#x27;quant_acao_judicial&#x27;,\n",
       "                                  &#x27;acao_judicial_valor&#x27;])],\n",
       "                  verbose_feature_names_out=False)</pre></div> </div></div><div class=\"sk-parallel\"><div class=\"sk-parallel-item\"><div class=\"sk-item\"><div class=\"sk-label-container\"><div class=\"sk-label fitted sk-toggleable\"><input class=\"sk-toggleable__control sk-hidden--visually\" id=\"sk-estimator-id-4\" type=\"checkbox\" ><label for=\"sk-estimator-id-4\" class=\"sk-toggleable__label fitted sk-toggleable__label-arrow fitted\">functiontransformer</label><div class=\"sk-toggleable__content fitted\"><pre>[&#x27;quant_protestos&#x27;, &#x27;valor_protestos&#x27;, &#x27;dividas_vencidas_qtd&#x27;, &#x27;dividas_vencidas_valor&#x27;, &#x27;quant_acao_judicial&#x27;, &#x27;acao_judicial_valor&#x27;]</pre></div> </div></div><div class=\"sk-serial\"><div class=\"sk-item\"><div class=\"sk-estimator fitted sk-toggleable\"><input class=\"sk-toggleable__control sk-hidden--visually\" id=\"sk-estimator-id-5\" type=\"checkbox\" ><label for=\"sk-estimator-id-5\" class=\"sk-toggleable__label fitted sk-toggleable__label-arrow fitted\">&nbsp;FunctionTransformer<a class=\"sk-estimator-doc-link fitted\" rel=\"noreferrer\" target=\"_blank\" href=\"https://scikit-learn.org/1.4/modules/generated/sklearn.preprocessing.FunctionTransformer.html\">?<span>Documentation for FunctionTransformer</span></a></label><div class=\"sk-toggleable__content fitted\"><pre>FunctionTransformer(func=&lt;function fix_amount at 0x7080655e5090&gt;)</pre></div> </div></div></div></div></div><div class=\"sk-parallel-item\"><div class=\"sk-item\"><div class=\"sk-label-container\"><div class=\"sk-label fitted sk-toggleable\"><input class=\"sk-toggleable__control sk-hidden--visually\" id=\"sk-estimator-id-6\" type=\"checkbox\" ><label for=\"sk-estimator-id-6\" class=\"sk-toggleable__label fitted sk-toggleable__label-arrow fitted\">remainder</label><div class=\"sk-toggleable__content fitted\"><pre>[&#x27;atividade_principal&#x27;, &#x27;ioi_3months&#x27;, &#x27;valor_quitado&#x27;, &#x27;valor_por_vencer&#x27;, &#x27;month&#x27;, &#x27;valor_total_pedido&#x27;, &#x27;ioi_36months&#x27;, &#x27;year&#x27;, &#x27;tipo_sociedade&#x27;, &#x27;opcao_tributaria&#x27;, &#x27;forma_pagamento&#x27;, &#x27;valor_vencido&#x27;, &#x27;default_3months&#x27;, &#x27;falencia_concordata_qtd&#x27;]</pre></div> </div></div><div class=\"sk-serial\"><div class=\"sk-item\"><div class=\"sk-estimator fitted sk-toggleable\"><input class=\"sk-toggleable__control sk-hidden--visually\" id=\"sk-estimator-id-7\" type=\"checkbox\" ><label for=\"sk-estimator-id-7\" class=\"sk-toggleable__label fitted sk-toggleable__label-arrow fitted\">passthrough</label><div class=\"sk-toggleable__content fitted\"><pre>passthrough</pre></div> </div></div></div></div></div></div></div><div class=\"sk-item sk-dashed-wrapped\"><div class=\"sk-label-container\"><div class=\"sk-label fitted sk-toggleable\"><input class=\"sk-toggleable__control sk-hidden--visually\" id=\"sk-estimator-id-8\" type=\"checkbox\" ><label for=\"sk-estimator-id-8\" class=\"sk-toggleable__label fitted sk-toggleable__label-arrow fitted\">&nbsp;columntransformer-2: ColumnTransformer<a class=\"sk-estimator-doc-link fitted\" rel=\"noreferrer\" target=\"_blank\" href=\"https://scikit-learn.org/1.4/modules/generated/sklearn.compose.ColumnTransformer.html\">?<span>Documentation for columntransformer-2: ColumnTransformer</span></a></label><div class=\"sk-toggleable__content fitted\"><pre>ColumnTransformer(transformers=[(&#x27;functiontransformer-1&#x27;,\n",
       "                                 FunctionTransformer(func=&lt;function convert_payment_column at 0x7080655e5240&gt;),\n",
       "                                 [&#x27;forma_pagamento&#x27;]),\n",
       "                                (&#x27;functiontransformer-2&#x27;,\n",
       "                                 FunctionTransformer(func=&lt;function count_zeros at 0x7080655e53f0&gt;),\n",
       "                                 [&#x27;valor_vencido&#x27;, &#x27;default_3months&#x27;,\n",
       "                                  &#x27;quant_protestos&#x27;, &#x27;valor_protestos&#x27;,\n",
       "                                  &#x27;quant_acao_judicial&#x27;,\n",
       "                                  &#x27;dividas_vencid...\n",
       "                                  &#x27;falencia_concordata_qtd&#x27;]),\n",
       "                                (&#x27;functiontransformer-3&#x27;,\n",
       "                                 FunctionTransformer(func=&lt;function to_category at 0x7080655e5360&gt;),\n",
       "                                 [&#x27;tipo_sociedade&#x27;, &#x27;opcao_tributaria&#x27;,\n",
       "                                  &#x27;atividade_principal&#x27;]),\n",
       "                                (&#x27;passthrough&#x27;, &#x27;passthrough&#x27;,\n",
       "                                 [&#x27;ioi_3months&#x27;, &#x27;valor_quitado&#x27;,\n",
       "                                  &#x27;valor_por_vencer&#x27;, &#x27;month&#x27;,\n",
       "                                  &#x27;valor_total_pedido&#x27;, &#x27;ioi_36months&#x27;, &#x27;year&#x27;,\n",
       "                                  &#x27;quant_protestos&#x27;])],\n",
       "                  verbose_feature_names_out=False)</pre></div> </div></div><div class=\"sk-parallel\"><div class=\"sk-parallel-item\"><div class=\"sk-item\"><div class=\"sk-label-container\"><div class=\"sk-label fitted sk-toggleable\"><input class=\"sk-toggleable__control sk-hidden--visually\" id=\"sk-estimator-id-9\" type=\"checkbox\" ><label for=\"sk-estimator-id-9\" class=\"sk-toggleable__label fitted sk-toggleable__label-arrow fitted\">functiontransformer-1</label><div class=\"sk-toggleable__content fitted\"><pre>[&#x27;forma_pagamento&#x27;]</pre></div> </div></div><div class=\"sk-serial\"><div class=\"sk-item\"><div class=\"sk-estimator fitted sk-toggleable\"><input class=\"sk-toggleable__control sk-hidden--visually\" id=\"sk-estimator-id-10\" type=\"checkbox\" ><label for=\"sk-estimator-id-10\" class=\"sk-toggleable__label fitted sk-toggleable__label-arrow fitted\">&nbsp;FunctionTransformer<a class=\"sk-estimator-doc-link fitted\" rel=\"noreferrer\" target=\"_blank\" href=\"https://scikit-learn.org/1.4/modules/generated/sklearn.preprocessing.FunctionTransformer.html\">?<span>Documentation for FunctionTransformer</span></a></label><div class=\"sk-toggleable__content fitted\"><pre>FunctionTransformer(func=&lt;function convert_payment_column at 0x7080655e5240&gt;)</pre></div> </div></div></div></div></div><div class=\"sk-parallel-item\"><div class=\"sk-item\"><div class=\"sk-label-container\"><div class=\"sk-label fitted sk-toggleable\"><input class=\"sk-toggleable__control sk-hidden--visually\" id=\"sk-estimator-id-11\" type=\"checkbox\" ><label for=\"sk-estimator-id-11\" class=\"sk-toggleable__label fitted sk-toggleable__label-arrow fitted\">functiontransformer-2</label><div class=\"sk-toggleable__content fitted\"><pre>[&#x27;valor_vencido&#x27;, &#x27;default_3months&#x27;, &#x27;quant_protestos&#x27;, &#x27;valor_protestos&#x27;, &#x27;quant_acao_judicial&#x27;, &#x27;dividas_vencidas_valor&#x27;, &#x27;dividas_vencidas_qtd&#x27;, &#x27;acao_judicial_valor&#x27;, &#x27;falencia_concordata_qtd&#x27;]</pre></div> </div></div><div class=\"sk-serial\"><div class=\"sk-item\"><div class=\"sk-estimator fitted sk-toggleable\"><input class=\"sk-toggleable__control sk-hidden--visually\" id=\"sk-estimator-id-12\" type=\"checkbox\" ><label for=\"sk-estimator-id-12\" class=\"sk-toggleable__label fitted sk-toggleable__label-arrow fitted\">&nbsp;FunctionTransformer<a class=\"sk-estimator-doc-link fitted\" rel=\"noreferrer\" target=\"_blank\" href=\"https://scikit-learn.org/1.4/modules/generated/sklearn.preprocessing.FunctionTransformer.html\">?<span>Documentation for FunctionTransformer</span></a></label><div class=\"sk-toggleable__content fitted\"><pre>FunctionTransformer(func=&lt;function count_zeros at 0x7080655e53f0&gt;)</pre></div> </div></div></div></div></div><div class=\"sk-parallel-item\"><div class=\"sk-item\"><div class=\"sk-label-container\"><div class=\"sk-label fitted sk-toggleable\"><input class=\"sk-toggleable__control sk-hidden--visually\" id=\"sk-estimator-id-13\" type=\"checkbox\" ><label for=\"sk-estimator-id-13\" class=\"sk-toggleable__label fitted sk-toggleable__label-arrow fitted\">functiontransformer-3</label><div class=\"sk-toggleable__content fitted\"><pre>[&#x27;tipo_sociedade&#x27;, &#x27;opcao_tributaria&#x27;, &#x27;atividade_principal&#x27;]</pre></div> </div></div><div class=\"sk-serial\"><div class=\"sk-item\"><div class=\"sk-estimator fitted sk-toggleable\"><input class=\"sk-toggleable__control sk-hidden--visually\" id=\"sk-estimator-id-14\" type=\"checkbox\" ><label for=\"sk-estimator-id-14\" class=\"sk-toggleable__label fitted sk-toggleable__label-arrow fitted\">&nbsp;FunctionTransformer<a class=\"sk-estimator-doc-link fitted\" rel=\"noreferrer\" target=\"_blank\" href=\"https://scikit-learn.org/1.4/modules/generated/sklearn.preprocessing.FunctionTransformer.html\">?<span>Documentation for FunctionTransformer</span></a></label><div class=\"sk-toggleable__content fitted\"><pre>FunctionTransformer(func=&lt;function to_category at 0x7080655e5360&gt;)</pre></div> </div></div></div></div></div><div class=\"sk-parallel-item\"><div class=\"sk-item\"><div class=\"sk-label-container\"><div class=\"sk-label fitted sk-toggleable\"><input class=\"sk-toggleable__control sk-hidden--visually\" id=\"sk-estimator-id-15\" type=\"checkbox\" ><label for=\"sk-estimator-id-15\" class=\"sk-toggleable__label fitted sk-toggleable__label-arrow fitted\">passthrough</label><div class=\"sk-toggleable__content fitted\"><pre>[&#x27;ioi_3months&#x27;, &#x27;valor_quitado&#x27;, &#x27;valor_por_vencer&#x27;, &#x27;month&#x27;, &#x27;valor_total_pedido&#x27;, &#x27;ioi_36months&#x27;, &#x27;year&#x27;, &#x27;quant_protestos&#x27;]</pre></div> </div></div><div class=\"sk-serial\"><div class=\"sk-item\"><div class=\"sk-estimator fitted sk-toggleable\"><input class=\"sk-toggleable__control sk-hidden--visually\" id=\"sk-estimator-id-16\" type=\"checkbox\" ><label for=\"sk-estimator-id-16\" class=\"sk-toggleable__label fitted sk-toggleable__label-arrow fitted\">passthrough</label><div class=\"sk-toggleable__content fitted\"><pre>passthrough</pre></div> </div></div></div></div></div></div></div><div class=\"sk-item\"><div class=\"sk-estimator fitted sk-toggleable\"><input class=\"sk-toggleable__control sk-hidden--visually\" id=\"sk-estimator-id-17\" type=\"checkbox\" ><label for=\"sk-estimator-id-17\" class=\"sk-toggleable__label fitted sk-toggleable__label-arrow fitted\">LGBMClassifier</label><div class=\"sk-toggleable__content fitted\"><pre>LGBMClassifier(boosting=&#x27;gbdt&#x27;, is_unbalance=False,\n",
       "               lambda_l1=6.133770089625727e-08, lambda_l2=2.1815578194588485,\n",
       "               learning_rate=0.3747067251453826, min_data_in_leaf=10,\n",
       "               n_estimators=289, num_leaves=54, random_state=0, verbose=-1)</pre></div> </div></div></div></div></div></div>"
      ],
      "text/plain": [
       "Pipeline(steps=[('columntransformer-1',\n",
       "                 ColumnTransformer(remainder='passthrough',\n",
       "                                   transformers=[('functiontransformer',\n",
       "                                                  FunctionTransformer(func=<function fix_amount at 0x7080655e5090>),\n",
       "                                                  ['quant_protestos',\n",
       "                                                   'valor_protestos',\n",
       "                                                   'dividas_vencidas_qtd',\n",
       "                                                   'dividas_vencidas_valor',\n",
       "                                                   'quant_acao_judicial',\n",
       "                                                   'acao_judicial_valor'])],\n",
       "                                   verbose_feature_names_out=False)),\n",
       "                ('c...\n",
       "                                                   'valor_por_vencer', 'month',\n",
       "                                                   'valor_total_pedido',\n",
       "                                                   'ioi_36months', 'year',\n",
       "                                                   'quant_protestos'])],\n",
       "                                   verbose_feature_names_out=False)),\n",
       "                ('lgbmclassifier',\n",
       "                 LGBMClassifier(boosting='gbdt', is_unbalance=False,\n",
       "                                lambda_l1=6.133770089625727e-08,\n",
       "                                lambda_l2=2.1815578194588485,\n",
       "                                learning_rate=0.3747067251453826,\n",
       "                                min_data_in_leaf=10, n_estimators=289,\n",
       "                                num_leaves=54, random_state=0, verbose=-1))])"
      ]
     },
     "execution_count": 18,
     "metadata": {},
     "output_type": "execute_result"
    }
   ],
   "source": [
    "final_model.fit(X_train[input_features], y_train)"
   ]
  },
  {
   "cell_type": "code",
   "execution_count": 19,
   "metadata": {},
   "outputs": [],
   "source": [
    "model_data = {\n",
    "    \"model\": final_model,\n",
    "    \"threshold\": threshold,\n",
    "    \"input_features\": input_features,\n",
    "}\n",
    "with open(\"../model.pickle\", \"wb\") as f:\n",
    "    pickle.dump(model_data, f)"
   ]
  },
  {
   "cell_type": "markdown",
   "metadata": {},
   "source": [
    "## Avaliação do Modelo Final\n"
   ]
  },
  {
   "cell_type": "code",
   "execution_count": 20,
   "metadata": {},
   "outputs": [
    {
     "data": {
      "image/png": "[encoded data removed]",
      "text/plain": [
       "<Figure size 640x480 with 2 Axes>"
      ]
     },
     "metadata": {},
     "output_type": "display_data"
    }
   ],
   "source": [
    "y_pred_proba = final_model.predict_proba(X_test[input_features])[:, 1]\n",
    "y_pred = (y_pred_proba > threshold).astype(np.int64)\n",
    "ConfusionMatrixDisplay.from_predictions(y_test, y_pred, cmap=\"Blues\")\n",
    "plt.xlabel(\"Predição\")\n",
    "plt.ylabel(\"Valor real\")\n",
    "plt.show()"
   ]
  },
  {
   "cell_type": "code",
   "execution_count": 21,
   "metadata": {},
   "outputs": [
    {
     "name": "stdout",
     "output_type": "stream",
     "text": [
      "Acurácia: 0.926\n",
      "Precisão: 0.784\n",
      "Recall: 0.764\n",
      "F1: 0.774\n",
      "Transações corretamente evitadas pelo modelo: R$ 59,686,821.22 (TP)\n",
      "Transações incorretamente evitadas pelo modelo: R$ 14,657,695.56 (FP)\n",
      "Considerando uma margem de lucro de 20%:\n",
      "  Perdas evitadas pelo modelo: R$ 47,749,456.97\n",
      "  Perdas causadas pelo modelo: R$ 2,931,539.11\n",
      "  Líquido: R$ 44,817,917.86\n",
      "  Líquido (estimativa incluindo dados de treino): R$ 224,085,767.69\n"
     ]
    }
   ],
   "source": [
    "tn, fp, fn, tp = confusion_matrix(y_test, y_pred).ravel()\n",
    "accuracy = (tp + tn) / (tp + fp + tn + fn)\n",
    "precision = tp / (tp + fp)\n",
    "recall = tp / (tp + fn)\n",
    "f1 = 2 * precision * recall / (precision + recall)\n",
    "\n",
    "tp_mask = (y_test == 1) & (y_pred == 1)\n",
    "fp_mask = (y_test == 0) & (y_pred == 1)\n",
    "\n",
    "profit_margin = 0.2\n",
    "\n",
    "# perdas evitadas pelo modelo\n",
    "avoided_losses = X_test.loc[tp_mask, \"valor_total_pedido\"].sum()\n",
    "\n",
    "# perdas evitadas, ignorando lucros (ie, incluindo apenas o custo de produção)\n",
    "avoided_losses_discounted = avoided_losses * (1 - profit_margin)\n",
    "\n",
    "# perdas causadas pelo modelo\n",
    "incurred_losses = X_test.loc[fp_mask, \"valor_total_pedido\"].sum()\n",
    "\n",
    "# perdas causadas, considerando apenas o lucro\n",
    "incurred_losses_discounted = profit_margin * incurred_losses\n",
    "\n",
    "\n",
    "avoided_losses = round(avoided_losses, 2)\n",
    "avoided_losses_discounted = round(avoided_losses_discounted, 2)\n",
    "incurred_losses = round(incurred_losses, 2)\n",
    "incurred_losses_discounted = round(incurred_losses_discounted, 2)\n",
    "\n",
    "# Lucro líquido\n",
    "net = avoided_losses_discounted - incurred_losses_discounted\n",
    "\n",
    "# Lucro liquido estimado para todos os dados\n",
    "net_projected = net * (len(train) + len(test)) / len(test)\n",
    "\n",
    "\n",
    "print(f\"Acurácia: {accuracy:.3}\")\n",
    "print(f\"Precisão: {precision:.3}\")\n",
    "print(f\"Recall: {recall:.3}\")\n",
    "print(f\"F1: {f1:.3}\")\n",
    "print(f\"Transações corretamente evitadas pelo modelo: R$ {avoided_losses:,.2f} (TP)\")\n",
    "print(f\"Transações incorretamente evitadas pelo modelo: R$ {incurred_losses:,.2f} (FP)\")\n",
    "print(\"Considerando uma margem de lucro de 20%:\")\n",
    "print(f\"  Perdas evitadas pelo modelo: R$ {avoided_losses_discounted:,.2f}\")\n",
    "print(f\"  Perdas causadas pelo modelo: R$ {incurred_losses_discounted:,.2f}\")\n",
    "print(f\"  Líquido: R$ {net:,.2f}\")\n",
    "print(f\"  Líquido (estimativa incluindo dados de treino): R$ {net_projected:,.2f}\")"
   ]
  },
  {
   "cell_type": "markdown",
   "metadata": {},
   "source": [
    "No contexto de predição de default, verdadeiros positivos permitem que um default seja evitado, enquanto falso positivos fazem com que transações boas sejam erroneamente deixadas de lado. Supondo uma margem de lucro de 20%, podemos calcular uma economia líquida de 45 milhões de reais devido ao modelo. Esses cálculos foram realizados na base de teste (20% dos dados), de forma que no dataset inteiro, podemos estimar uma economia líquida de 5x, ou seja, R$ 224 milhões.\n",
    "\n",
    "A margem de lucro de 20% é utilizada da seguinte forma:\n",
    "- Um pedido com default causa uma perda de 80% do seu valor total, ou seja, a perda é igual ao custo de produção\n",
    "- Um pedido sem default causa um lucro de 20% do seu valor total\n",
    "\n",
    "Essa análise ignora o potencial da X-Health de conseguir novos contratos para substituir os contratos rejeitados. Caso isso seja possível (ie, caso a X-Health rejeite pedidos devido à uma falta de capacidade), o lucro devido ao modelo seria ainda maior."
   ]
  }
 ],
 "metadata": {
  "kernelspec": {
   "display_name": "solution-jgGq5V3l",
   "language": "python",
   "name": "python3"
  },
  "language_info": {
   "codemirror_mode": {
    "name": "ipython",
    "version": 3
   },
   "file_extension": ".py",
   "mimetype": "text/x-python",
   "name": "python",
   "nbconvert_exporter": "python",
   "pygments_lexer": "ipython3",
   "version": "3.10.11"
  }
 },
 "nbformat": 4,
 "nbformat_minor": 2
}
